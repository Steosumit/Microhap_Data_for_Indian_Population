{
 "cells": [
  {
   "cell_type": "code",
   "id": "initial_id",
   "metadata": {
    "collapsed": true,
    "jupyter": {
     "is_executing": true
    }
   },
   "source": "import pandas as pd",
   "outputs": [],
   "execution_count": null
  },
  {
   "metadata": {
    "ExecuteTime": {
     "end_time": "2025-05-02T09:24:11.568922Z",
     "start_time": "2025-05-02T09:24:11.565380Z"
    }
   },
   "cell_type": "code",
   "source": [
    "vcf_file = r\"D:\\Work\\Genomic Project\\homo_sapiens-chrY.vcf.gz\"\n",
    "vcf_file1 = \"GAsP_1163Samples.InDels.Feb2020.vcf.gz\"\n",
    "vcf_file2 = r\"I:\\Genomic Project\\GAsP_1163Samples.InDels.Feb2020.vcf.gz\""
   ],
   "id": "a1c28db9f56b6bc6",
   "outputs": [],
   "execution_count": 32
  },
  {
   "metadata": {
    "ExecuteTime": {
     "end_time": "2025-05-02T09:24:12.557424Z",
     "start_time": "2025-05-02T09:24:12.551915Z"
    }
   },
   "cell_type": "code",
   "source": [
    "def get_vcf_header(vcf_file_input):\n",
    "    import gzip\n",
    "    header_line = \"\"\n",
    "    # set the opener if it is gzip\n",
    "    opener = gzip.open if vcf_file_input.endswith(\".gz\") else open\n",
    "    # open the file and find the header line\n",
    "    with opener(vcf_file_input, \"rt\") as file:\n",
    "        for line in file:\n",
    "            if line.startswith(\"#CHROM\"):\n",
    "                header_line = line\n",
    "                break\n",
    "            elif not line.startswith(\"#\"):\n",
    "                break\n",
    "    # format the header line to a list format\n",
    "    if header_line:\n",
    "        header_columns = header_line.strip(\"#\").strip(\"\\n\").split(\"\\t\")\n",
    "        return header_columns\n",
    "    else:\n",
    "        return \"Unable to find the header\"\n",
    "\n",
    "fixed_columns = get_vcf_header(vcf_file)  # change file name here >>\n",
    "print(f\"These are the columns found :\\n{fixed_columns}\")"
   ],
   "id": "e9ffd873e5ef80a5",
   "outputs": [
    {
     "name": "stdout",
     "output_type": "stream",
     "text": [
      "These are the columns found :\n",
      "['CHROM', 'POS', 'ID', 'REF', 'ALT', 'QUAL', 'FILTER', 'INFO']\n"
     ]
    }
   ],
   "execution_count": 33
  },
  {
   "metadata": {
    "ExecuteTime": {
     "end_time": "2025-05-02T09:31:12.511960Z",
     "start_time": "2025-05-02T09:31:08.949725Z"
    }
   },
   "cell_type": "code",
   "source": [
    "df = pd.read_csv(vcf_file, sep='\\t', comment='#', names=fixed_columns)\n",
    "df.head()  # Column index 1 = POS, use POS as we know the cols\n"
   ],
   "id": "e6c0f41dd022b23c",
   "outputs": [
    {
     "data": {
      "text/plain": [
       "  CHROM    POS            ID REF  ALT QUAL FILTER  \\\n",
       "0     Y  10002  rs1226858834   T    A    .      .   \n",
       "1     Y  10003   rs375039031   A  C,G    .      .   \n",
       "2     Y  10007  rs1422184628   C    G    .      .   \n",
       "3     Y  10008  rs1179917603   T    G    .      .   \n",
       "4     Y  10009   rs565284081   A  C,G    .      .   \n",
       "\n",
       "                                INFO  \n",
       "0           dbSNP_156;TSA=SNV;E_Freq  \n",
       "1  dbSNP_156;TSA=SNV;E_Freq;E_gnomAD  \n",
       "2           dbSNP_156;TSA=SNV;E_Freq  \n",
       "3  dbSNP_156;TSA=SNV;E_Freq;E_gnomAD  \n",
       "4  dbSNP_156;TSA=SNV;E_Freq;E_gnomAD  "
      ],
      "text/html": [
       "<div>\n",
       "<style scoped>\n",
       "    .dataframe tbody tr th:only-of-type {\n",
       "        vertical-align: middle;\n",
       "    }\n",
       "\n",
       "    .dataframe tbody tr th {\n",
       "        vertical-align: top;\n",
       "    }\n",
       "\n",
       "    .dataframe thead th {\n",
       "        text-align: right;\n",
       "    }\n",
       "</style>\n",
       "<table border=\"1\" class=\"dataframe\">\n",
       "  <thead>\n",
       "    <tr style=\"text-align: right;\">\n",
       "      <th></th>\n",
       "      <th>CHROM</th>\n",
       "      <th>POS</th>\n",
       "      <th>ID</th>\n",
       "      <th>REF</th>\n",
       "      <th>ALT</th>\n",
       "      <th>QUAL</th>\n",
       "      <th>FILTER</th>\n",
       "      <th>INFO</th>\n",
       "    </tr>\n",
       "  </thead>\n",
       "  <tbody>\n",
       "    <tr>\n",
       "      <th>0</th>\n",
       "      <td>Y</td>\n",
       "      <td>10002</td>\n",
       "      <td>rs1226858834</td>\n",
       "      <td>T</td>\n",
       "      <td>A</td>\n",
       "      <td>.</td>\n",
       "      <td>.</td>\n",
       "      <td>dbSNP_156;TSA=SNV;E_Freq</td>\n",
       "    </tr>\n",
       "    <tr>\n",
       "      <th>1</th>\n",
       "      <td>Y</td>\n",
       "      <td>10003</td>\n",
       "      <td>rs375039031</td>\n",
       "      <td>A</td>\n",
       "      <td>C,G</td>\n",
       "      <td>.</td>\n",
       "      <td>.</td>\n",
       "      <td>dbSNP_156;TSA=SNV;E_Freq;E_gnomAD</td>\n",
       "    </tr>\n",
       "    <tr>\n",
       "      <th>2</th>\n",
       "      <td>Y</td>\n",
       "      <td>10007</td>\n",
       "      <td>rs1422184628</td>\n",
       "      <td>C</td>\n",
       "      <td>G</td>\n",
       "      <td>.</td>\n",
       "      <td>.</td>\n",
       "      <td>dbSNP_156;TSA=SNV;E_Freq</td>\n",
       "    </tr>\n",
       "    <tr>\n",
       "      <th>3</th>\n",
       "      <td>Y</td>\n",
       "      <td>10008</td>\n",
       "      <td>rs1179917603</td>\n",
       "      <td>T</td>\n",
       "      <td>G</td>\n",
       "      <td>.</td>\n",
       "      <td>.</td>\n",
       "      <td>dbSNP_156;TSA=SNV;E_Freq;E_gnomAD</td>\n",
       "    </tr>\n",
       "    <tr>\n",
       "      <th>4</th>\n",
       "      <td>Y</td>\n",
       "      <td>10009</td>\n",
       "      <td>rs565284081</td>\n",
       "      <td>A</td>\n",
       "      <td>C,G</td>\n",
       "      <td>.</td>\n",
       "      <td>.</td>\n",
       "      <td>dbSNP_156;TSA=SNV;E_Freq;E_gnomAD</td>\n",
       "    </tr>\n",
       "  </tbody>\n",
       "</table>\n",
       "</div>"
      ]
     },
     "execution_count": 40,
     "metadata": {},
     "output_type": "execute_result"
    }
   ],
   "execution_count": 40
  },
  {
   "metadata": {},
   "cell_type": "markdown",
   "source": "## Assuming SNP positions are already given",
   "id": "75dfdb008ef28dc3"
  },
  {
   "metadata": {
    "ExecuteTime": {
     "end_time": "2025-05-02T09:38:08.679457Z",
     "start_time": "2025-05-02T09:38:08.674066Z"
    }
   },
   "cell_type": "code",
   "source": [
    "df_snp = df['POS']\n",
    "print(\"\")\n",
    "df_snp.head()"
   ],
   "id": "744ca06f025da07",
   "outputs": [
    {
     "data": {
      "text/plain": [
       "0    10002\n",
       "1    10003\n",
       "2    10007\n",
       "3    10008\n",
       "4    10009\n",
       "Name: POS, dtype: int64"
      ]
     },
     "execution_count": 42,
     "metadata": {},
     "output_type": "execute_result"
    }
   ],
   "execution_count": 42
  },
  {
   "metadata": {
    "ExecuteTime": {
     "end_time": "2025-05-02T09:53:49.254433Z",
     "start_time": "2025-05-02T09:53:47.222434Z"
    }
   },
   "cell_type": "code",
   "source": [
    "# Save the SNPs to a file\n",
    "df_snp.to_csv(\"snp_positions.csv\", index=False, header=False)"
   ],
   "id": "2845287631a3f6c8",
   "outputs": [],
   "execution_count": 43
  }
 ],
 "metadata": {
  "kernelspec": {
   "display_name": "Python 3",
   "language": "python",
   "name": "python3"
  },
  "language_info": {
   "codemirror_mode": {
    "name": "ipython",
    "version": 2
   },
   "file_extension": ".py",
   "mimetype": "text/x-python",
   "name": "python",
   "nbconvert_exporter": "python",
   "pygments_lexer": "ipython2",
   "version": "2.7.6"
  }
 },
 "nbformat": 4,
 "nbformat_minor": 5
}
