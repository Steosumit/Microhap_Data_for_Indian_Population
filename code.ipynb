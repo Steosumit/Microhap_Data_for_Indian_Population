{
 "cells": [
  {
   "cell_type": "code",
   "metadata": {
    "ExecuteTime": {
     "end_time": "2025-05-20T14:20:07.291157Z",
     "start_time": "2025-05-20T14:20:07.286730Z"
    }
   },
   "source": "import pandas as pd",
   "outputs": [],
   "execution_count": 5
  },
  {
   "cell_type": "code",
   "metadata": {
    "ExecuteTime": {
     "end_time": "2025-05-20T14:20:10.289976Z",
     "start_time": "2025-05-20T14:20:10.285141Z"
    }
   },
   "source": [
    "vcf_file = \"variants.vcf.gz\"\n",
    "vcf_file1 = \"GAsP_1163Samples.SNVs.Feb2020.vcf.gz\"\n",
    "vcf_file2 = r\"I:\\Genomic Project\\GAsP_1163Samples.InDels.Feb2020.vcf.gz\"\n",
    "vcf_file3 = \"chm13v2.0_dbSNPv155 (1).vcf.gz\""
   ],
   "outputs": [],
   "execution_count": 6
  },
  {
   "metadata": {
    "ExecuteTime": {
     "end_time": "2025-05-07T12:15:40.437536Z",
     "start_time": "2025-05-07T12:15:40.430365Z"
    }
   },
   "cell_type": "code",
   "source": "",
   "outputs": [],
   "execution_count": null
  },
  {
   "metadata": {},
   "cell_type": "markdown",
   "source": "## Finding the header with pure python codes :)"
  },
  {
   "metadata": {
    "ExecuteTime": {
     "end_time": "2025-05-09T07:36:38.430243Z",
     "start_time": "2025-05-09T07:36:38.424386Z"
    }
   },
   "cell_type": "code",
   "source": [
    "def get_vcf_header(vcf_file_input):\n",
    "    import gzip\n",
    "    header_line = \"\"\n",
    "    # set the opener if it is gzip\n",
    "    opener = gzip.open if vcf_file_input.endswith(\".gz\") else open\n",
    "    # open the file and find the header line\n",
    "    with opener(vcf_file_input, \"rt\") as file:\n",
    "        for line in file:\n",
    "            if line.startswith(\"#CHROM\"):\n",
    "                header_line = line\n",
    "                break\n",
    "            elif not line.startswith(\"#\"):\n",
    "                break\n",
    "    # format the header line to a list format\n",
    "    if header_line:\n",
    "        header_columns = header_line.strip(\"#\").strip(\"\\n\").split(\"\\t\")\n",
    "        return header_columns\n",
    "    else:\n",
    "        return \"Unable to find the header\"\n",
    "\n",
    "fixed_columns = get_vcf_header(vcf_file3)  # change file name here >>\n",
    "print(f\"These are the columns found :\\n{fixed_columns}\\n\")\n"
   ],
   "outputs": [
    {
     "name": "stdout",
     "output_type": "stream",
     "text": [
      "These are the columns found :\n",
      "['CHROM', 'POS', 'ID', 'REF', 'ALT', 'QUAL', 'FILTER', 'INFO']\n",
      "\n"
     ]
    }
   ],
   "execution_count": 82
  },
  {
   "metadata": {},
   "cell_type": "markdown",
   "source": "## Finding the header with linux command"
  },
  {
   "cell_type": "code",
   "metadata": {
    "ExecuteTime": {
     "end_time": "2025-04-18T14:15:29.360948Z",
     "start_time": "2025-04-18T14:15:28.938766Z"
    }
   },
   "source": [
    "df_variant = pd.read_csv(vcf_file, sep=\"\\t\", comment=\"#\")\n",
    "df_variant.head(1)"
   ],
   "outputs": [
    {
     "data": {
      "text/plain": [
       "   1  1157  .  T  C    166734  Low_VQSLOD;SubtelomericRepeat  \\\n",
       "0  1  1196  .  A  T  696707.0  Low_VQSLOD;SubtelomericRepeat   \n",
       "\n",
       "  AC=0;AF=0.075;AN=18;BaseQRankSum=-3.266;ClippingRankSum=-0.218;DP=210823;FS=4.461;GC=23.81;MLEAC=401;MLEAF=0.078;MQ=33.6;MQRankSum=-0.29;QD=4.52;ReadPosRankSum=0.922;RegionType=SubtelomericRepeat;SNPEFF_EFFECT=INTERGENIC;SNPEFF_FUNCTIONAL_CLASS=NONE;SNPEFF_IMPACT=MODIFIER;SOR=0.412;VQSLOD=-5.776;VariantType=SNP;culprit=QD;set=FilteredInAll  \\\n",
       "0  AC=3;AF=0.22;AN=20;BaseQRankSum=-0.592;Clippin...                                                                                                                                                                                                                                                                                                      \n",
       "\n",
       "   GT:AD:DP:GQ:PGT:PID:PL 0/0:62,0:62:99:.:.:0,104,1800  \\\n",
       "0  GT:AD:DP:GQ:PGT:PID:PL    0/0:63,0:63:0:.:.:0,0,1444   \n",
       "\n",
       "   0/0:74,5:79:99:.:.:0,109,3135 0/0:104,0:104:99:.:.:0,120,1800  \\\n",
       "0  0/1:32,36:68:99:.:.:815,0,984      0/0:83,0:83:0:.:.:0,0,1754   \n",
       "\n",
       "      0/0:30,0:30:0:.:.:0,0,712        0/0:43,0:43:99:.:.:0,111,1665  \\\n",
       "0  0/1:9,21:30:99:.:.:565,0,263  0/0:45,5:50:5:0|1:1196_A_T:0,5,1188   \n",
       "\n",
       "   0/0:95,0:95:99:.:.:0,120,1800   0/0:61,0:61:99:.:.:0,120,1800  \\\n",
       "0  0/0:99,0:99:99:.:.:0,120,1800  0/1:58,21:79:99:.:.:384,0,1515   \n",
       "\n",
       "          ./.:5,0:5:.:.:.:.  0/0:14,0:14:42:.:.:0,42,415  \\\n",
       "0  0/0:13,0:13:0:.:.:0,0,90  0/0:10,0:10:24:.:.:0,24,360   \n",
       "\n",
       "  0/0:12,0:12:36:.:.:0,36,338  \n",
       "0   0/0:15,0:15:0:.:.:0,0,203  "
      ],
      "text/html": [
       "<div>\n",
       "<style scoped>\n",
       "    .dataframe tbody tr th:only-of-type {\n",
       "        vertical-align: middle;\n",
       "    }\n",
       "\n",
       "    .dataframe tbody tr th {\n",
       "        vertical-align: top;\n",
       "    }\n",
       "\n",
       "    .dataframe thead th {\n",
       "        text-align: right;\n",
       "    }\n",
       "</style>\n",
       "<table border=\"1\" class=\"dataframe\">\n",
       "  <thead>\n",
       "    <tr style=\"text-align: right;\">\n",
       "      <th></th>\n",
       "      <th>1</th>\n",
       "      <th>1157</th>\n",
       "      <th>.</th>\n",
       "      <th>T</th>\n",
       "      <th>C</th>\n",
       "      <th>166734</th>\n",
       "      <th>Low_VQSLOD;SubtelomericRepeat</th>\n",
       "      <th>AC=0;AF=0.075;AN=18;BaseQRankSum=-3.266;ClippingRankSum=-0.218;DP=210823;FS=4.461;GC=23.81;MLEAC=401;MLEAF=0.078;MQ=33.6;MQRankSum=-0.29;QD=4.52;ReadPosRankSum=0.922;RegionType=SubtelomericRepeat;SNPEFF_EFFECT=INTERGENIC;SNPEFF_FUNCTIONAL_CLASS=NONE;SNPEFF_IMPACT=MODIFIER;SOR=0.412;VQSLOD=-5.776;VariantType=SNP;culprit=QD;set=FilteredInAll</th>\n",
       "      <th>GT:AD:DP:GQ:PGT:PID:PL</th>\n",
       "      <th>0/0:62,0:62:99:.:.:0,104,1800</th>\n",
       "      <th>0/0:74,5:79:99:.:.:0,109,3135</th>\n",
       "      <th>0/0:104,0:104:99:.:.:0,120,1800</th>\n",
       "      <th>0/0:30,0:30:0:.:.:0,0,712</th>\n",
       "      <th>0/0:43,0:43:99:.:.:0,111,1665</th>\n",
       "      <th>0/0:95,0:95:99:.:.:0,120,1800</th>\n",
       "      <th>0/0:61,0:61:99:.:.:0,120,1800</th>\n",
       "      <th>./.:5,0:5:.:.:.:.</th>\n",
       "      <th>0/0:14,0:14:42:.:.:0,42,415</th>\n",
       "      <th>0/0:12,0:12:36:.:.:0,36,338</th>\n",
       "    </tr>\n",
       "  </thead>\n",
       "  <tbody>\n",
       "    <tr>\n",
       "      <th>0</th>\n",
       "      <td>1</td>\n",
       "      <td>1196</td>\n",
       "      <td>.</td>\n",
       "      <td>A</td>\n",
       "      <td>T</td>\n",
       "      <td>696707.0</td>\n",
       "      <td>Low_VQSLOD;SubtelomericRepeat</td>\n",
       "      <td>AC=3;AF=0.22;AN=20;BaseQRankSum=-0.592;Clippin...</td>\n",
       "      <td>GT:AD:DP:GQ:PGT:PID:PL</td>\n",
       "      <td>0/0:63,0:63:0:.:.:0,0,1444</td>\n",
       "      <td>0/1:32,36:68:99:.:.:815,0,984</td>\n",
       "      <td>0/0:83,0:83:0:.:.:0,0,1754</td>\n",
       "      <td>0/1:9,21:30:99:.:.:565,0,263</td>\n",
       "      <td>0/0:45,5:50:5:0|1:1196_A_T:0,5,1188</td>\n",
       "      <td>0/0:99,0:99:99:.:.:0,120,1800</td>\n",
       "      <td>0/1:58,21:79:99:.:.:384,0,1515</td>\n",
       "      <td>0/0:13,0:13:0:.:.:0,0,90</td>\n",
       "      <td>0/0:10,0:10:24:.:.:0,24,360</td>\n",
       "      <td>0/0:15,0:15:0:.:.:0,0,203</td>\n",
       "    </tr>\n",
       "  </tbody>\n",
       "</table>\n",
       "</div>"
      ]
     },
     "execution_count": 3,
     "metadata": {},
     "output_type": "execute_result"
    }
   ],
   "execution_count": 3
  },
  {
   "cell_type": "code",
   "metadata": {
    "ExecuteTime": {
     "end_time": "2025-04-18T14:15:32.828621Z",
     "start_time": "2025-04-18T14:15:32.824163Z"
    }
   },
   "source": [
    "df_variant.shape"
   ],
   "outputs": [
    {
     "data": {
      "text/plain": [
       "(26893, 19)"
      ]
     },
     "execution_count": 4,
     "metadata": {},
     "output_type": "execute_result"
    }
   ],
   "execution_count": 4
  },
  {
   "cell_type": "markdown",
   "metadata": {},
   "source": [
    "Formatting the text and finding the column list starting with #"
   ]
  },
  {
   "cell_type": "code",
   "metadata": {
    "ExecuteTime": {
     "end_time": "2025-04-18T14:15:45.248813Z",
     "start_time": "2025-04-18T14:15:45.218296Z"
    }
   },
   "source": [
    "import os\n",
    "columns = os.popen(f\"zgrep '^#' {vcf_file} | tail -n 1\").read()\n",
    "columns = columns.strip('#').strip('\\n').split('\\t')\n",
    "columns"
   ],
   "outputs": [
    {
     "data": {
      "text/plain": [
       "['']"
      ]
     },
     "execution_count": 5,
     "metadata": {},
     "output_type": "execute_result"
    }
   ],
   "execution_count": 5
  },
  {
   "cell_type": "code",
   "execution_count": 8,
   "metadata": {},
   "outputs": [
    {
     "data": {
      "text/html": [
       "<div>\n",
       "<style scoped>\n",
       "    .dataframe tbody tr th:only-of-type {\n",
       "        vertical-align: middle;\n",
       "    }\n",
       "\n",
       "    .dataframe tbody tr th {\n",
       "        vertical-align: top;\n",
       "    }\n",
       "\n",
       "    .dataframe thead th {\n",
       "        text-align: right;\n",
       "    }\n",
       "</style>\n",
       "<table border=\"1\" class=\"dataframe\">\n",
       "  <thead>\n",
       "    <tr style=\"text-align: right;\">\n",
       "      <th></th>\n",
       "      <th></th>\n",
       "      <th></th>\n",
       "      <th></th>\n",
       "      <th></th>\n",
       "      <th></th>\n",
       "      <th></th>\n",
       "      <th></th>\n",
       "      <th></th>\n",
       "      <th></th>\n",
       "      <th></th>\n",
       "      <th></th>\n",
       "      <th></th>\n",
       "      <th></th>\n",
       "      <th></th>\n",
       "      <th></th>\n",
       "      <th></th>\n",
       "      <th></th>\n",
       "      <th></th>\n",
       "    </tr>\n",
       "  </thead>\n",
       "  <tbody>\n",
       "    <tr>\n",
       "      <th rowspan=\"5\" valign=\"top\">1</th>\n",
       "      <th>1157</th>\n",
       "      <th>.</th>\n",
       "      <th>T</th>\n",
       "      <th>C</th>\n",
       "      <th>166734.0</th>\n",
       "      <th>Low_VQSLOD;SubtelomericRepeat</th>\n",
       "      <th>AC=0;AF=0.075;AN=18;BaseQRankSum=-3.266;ClippingRankSum=-0.218;DP=210823;FS=4.461;GC=23.81;MLEAC=401;MLEAF=0.078;MQ=33.6;MQRankSum=-0.29;QD=4.52;ReadPosRankSum=0.922;RegionType=SubtelomericRepeat;SNPEFF_EFFECT=INTERGENIC;SNPEFF_FUNCTIONAL_CLASS=NONE;SNPEFF_IMPACT=MODIFIER;SOR=0.412;VQSLOD=-5.776;VariantType=SNP;culprit=QD;set=FilteredInAll</th>\n",
       "      <th>GT:AD:DP:GQ:PGT:PID:PL</th>\n",
       "      <th>0/0:62,0:62:99:.:.:0,104,1800</th>\n",
       "      <th>0/0:74,5:79:99:.:.:0,109,3135</th>\n",
       "      <th>0/0:104,0:104:99:.:.:0,120,1800</th>\n",
       "      <th>0/0:30,0:30:0:.:.:0,0,712</th>\n",
       "      <th>0/0:43,0:43:99:.:.:0,111,1665</th>\n",
       "      <th>0/0:95,0:95:99:.:.:0,120,1800</th>\n",
       "      <th>0/0:61,0:61:99:.:.:0,120,1800</th>\n",
       "      <th>./.:5,0:5:.:.:.:.</th>\n",
       "      <th>0/0:14,0:14:42:.:.:0,42,415</th>\n",
       "      <td>0/0:12,0:12:36:.:.:0,36,338</td>\n",
       "    </tr>\n",
       "    <tr>\n",
       "      <th>1196</th>\n",
       "      <th>.</th>\n",
       "      <th>A</th>\n",
       "      <th>T</th>\n",
       "      <th>696707.0</th>\n",
       "      <th>Low_VQSLOD;SubtelomericRepeat</th>\n",
       "      <th>AC=3;AF=0.22;AN=20;BaseQRankSum=-0.592;ClippingRankSum=-0.023;DP=255086;FS=1.295;GC=33.33;MLEAC=1280;MLEAF=0.252;MQ=34.05;MQRankSum=-2.466;QD=6.68;ReadPosRankSum=-1.285;RegionType=SubtelomericRepeat;SNPEFF_EFFECT=INTERGENIC;SNPEFF_FUNCTIONAL_CLASS=NONE;SNPEFF_IMPACT=MODIFIER;SOR=0.878;VQSLOD=-5.081;VariantType=SNP;culprit=QD;set=FilteredInAll</th>\n",
       "      <th>GT:AD:DP:GQ:PGT:PID:PL</th>\n",
       "      <th>0/0:63,0:63:0:.:.:0,0,1444</th>\n",
       "      <th>0/1:32,36:68:99:.:.:815,0,984</th>\n",
       "      <th>0/0:83,0:83:0:.:.:0,0,1754</th>\n",
       "      <th>0/1:9,21:30:99:.:.:565,0,263</th>\n",
       "      <th>0/0:45,5:50:5:0|1:1196_A_T:0,5,1188</th>\n",
       "      <th>0/0:99,0:99:99:.:.:0,120,1800</th>\n",
       "      <th>0/1:58,21:79:99:.:.:384,0,1515</th>\n",
       "      <th>0/0:13,0:13:0:.:.:0,0,90</th>\n",
       "      <th>0/0:10,0:10:24:.:.:0,24,360</th>\n",
       "      <td>0/0:15,0:15:0:.:.:0,0,203</td>\n",
       "    </tr>\n",
       "    <tr>\n",
       "      <th>1414</th>\n",
       "      <th>.</th>\n",
       "      <th>C</th>\n",
       "      <th>T</th>\n",
       "      <th>324038.0</th>\n",
       "      <th>Low_VQSLOD;SubtelomericRepeat</th>\n",
       "      <th>AC=2;AF=0.071;AN=20;BaseQRankSum=4.2;ClippingRankSum=-0.152;DP=370953;FS=5.596;GC=42.86;MLEAC=369;MLEAF=0.071;MQ=32.23;MQRankSum=0.424;QD=5.8;ReadPosRankSum=-1.652;RegionType=SubtelomericRepeat;SNPEFF_EFFECT=INTERGENIC;SNPEFF_FUNCTIONAL_CLASS=NONE;SNPEFF_IMPACT=MODIFIER;SOR=1.202;VQSLOD=-4.983;VariantType=SNP;culprit=QD;set=FilteredInAll</th>\n",
       "      <th>GT:AD:DP:GQ:PGT:PID:PL</th>\n",
       "      <th>0/0:75,0:75:99:.:.:0,120,1800</th>\n",
       "      <th>0/0:81,0:81:99:.:.:0,120,1800</th>\n",
       "      <th>0/0:78,0:78:99:.:.:0,120,1800</th>\n",
       "      <th>0/1:51,18:69:99:.:.:527,0,1924</th>\n",
       "      <th>0/1:53,28:81:99:0|1:1380_T_C:1010,0,2205</th>\n",
       "      <th>0/0:141,0:141:99:.:.:0,120,1800</th>\n",
       "      <th>0/0:121,8:129:52:0|1:1400_C_G:0,52,5427</th>\n",
       "      <th>0/0:6,0:6:18:.:.:0,18,178</th>\n",
       "      <th>0/0:28,0:28:57:.:.:0,57,855</th>\n",
       "      <td>0/0:22,0:22:66:.:.:0,66,645</td>\n",
       "    </tr>\n",
       "    <tr>\n",
       "      <th>1435</th>\n",
       "      <th>.</th>\n",
       "      <th>T</th>\n",
       "      <th>C</th>\n",
       "      <th>495439.0</th>\n",
       "      <th>Low_VQSLOD;SubtelomericRepeat</th>\n",
       "      <th>AC=1;AF=0.1;AN=20;BaseQRankSum=-4.336;ClippingRankSum=-0.198;DP=308673;FS=4.163;GC=28.57;MLEAC=532;MLEAF=0.102;MQ=34.57;MQRankSum=0.535;QD=6.27;ReadPosRankSum=-1.507;RegionType=SubtelomericRepeat;SNPEFF_EFFECT=INTERGENIC;SNPEFF_FUNCTIONAL_CLASS=NONE;SNPEFF_IMPACT=MODIFIER;SOR=0.415;VQSLOD=-5.123;VariantType=SNP;culprit=QD;set=FilteredInAll</th>\n",
       "      <th>GT:AD:DP:GQ:PGT:PID:PL</th>\n",
       "      <th>0/0:54,0:54:99:.:.:0,120,1800</th>\n",
       "      <th>0/0:55,0:55:99:.:.:0,120,1800</th>\n",
       "      <th>0/0:55,0:55:99:.:.:0,120,1800</th>\n",
       "      <th>0/0:68,0:68:99:.:.:0,120,1800</th>\n",
       "      <th>0/0:75,0:75:99:.:.:0,120,1800</th>\n",
       "      <th>0/0:107,0:107:99:.:.:0,120,1800</th>\n",
       "      <th>0/0:145,0:145:99:.:.:0,120,1800</th>\n",
       "      <th>0/0:6,0:6:18:.:.:0,18,165</th>\n",
       "      <th>0/0:22,0:22:60:.:.:0,60,649</th>\n",
       "      <td>0/1:14,3:17:84:.:.:84,0,578</td>\n",
       "    </tr>\n",
       "    <tr>\n",
       "      <th>1450</th>\n",
       "      <th>.</th>\n",
       "      <th>A</th>\n",
       "      <th>T,C</th>\n",
       "      <th>2703220.0</th>\n",
       "      <th>Low_VQSLOD;SubtelomericRepeat</th>\n",
       "      <th>AC=7,1;AF=0.382,0.061;AN=20;BaseQRankSum=0.596;ClippingRankSum=-0.124;DP=275620;FS=3.49;GC=28.57;MLEAC=1991,313;MLEAF=0.389,0.061;MQ=33.72;MQRankSum=-0.572;QD=12.8;ReadPosRankSum=-0.065;RegionType=SubtelomericRepeat;SNPEFF_EFFECT=INTERGENIC;SNPEFF_FUNCTIONAL_CLASS=NONE;SNPEFF_IMPACT=MODIFIER;SOR=0.981;VQSLOD=-4.105;VariantType=MULTIALLELIC_SNP;culprit=MQ;set=FilteredInAll</th>\n",
       "      <th>GT:AD:DP:GQ:PGT:PID:PL</th>\n",
       "      <th>0/1:37,10,0:47:99:0|1:1216_T_C:159,0,1011,270,1042,1312</th>\n",
       "      <th>0/1:41,7,0:48:99:.:.:154,0,1639,281,1660,1941</th>\n",
       "      <th>0/0:55,0,0:55:0:.:.:0,0,652,0,652,652</th>\n",
       "      <th>0/1:14,49,0:63:99:0|1:1450_A_T:2021,0,391,2063,553,2616</th>\n",
       "      <th>0/1:18,41,0:59:99:.:.:1425,0,438,1479,564,2042</th>\n",
       "      <th>0/1:64,26,0:90:99:.:.:568,0,2596,769,2674,3443</th>\n",
       "      <th>0/1:88,34,0:122:99:.:.:597,0,3243,860,3344,4204</th>\n",
       "      <th>0/0:5,0,0:5:15:.:.:0,15,126,15,126,126</th>\n",
       "      <th>0/1:24,6,0:30:61:.:.:61,0,586,132,602,735</th>\n",
       "      <td>0/2:10,1,3:14:84:.:.:93,84,523,0,403,453</td>\n",
       "    </tr>\n",
       "  </tbody>\n",
       "</table>\n",
       "</div>"
      ],
      "text/plain": [
       "                                                                                                                                                                                                                                                                                                                                                                                                                                                                                                                                                                                                   \n",
       "1 1157 . T C   166734.0  Low_VQSLOD;SubtelomericRepeat AC=0;AF=0.075;AN=18;BaseQRankSum=-3.266;Clippin... GT:AD:DP:GQ:PGT:PID:PL 0/0:62,0:62:99:.:.:0,104,1800                      0/0:74,5:79:99:.:.:0,109,3135                 0/0:104,0:104:99:.:.:0,120,1800       0/0:30,0:30:0:.:.:0,0,712                          0/0:43,0:43:99:.:.:0,111,1665                  0/0:95,0:95:99:.:.:0,120,1800                  0/0:61,0:61:99:.:.:0,120,1800                   ./.:5,0:5:.:.:.:.                      0/0:14,0:14:42:.:.:0,42,415                             0/0:12,0:12:36:.:.:0,36,338\n",
       "  1196 . A T   696707.0  Low_VQSLOD;SubtelomericRepeat AC=3;AF=0.22;AN=20;BaseQRankSum=-0.592;Clipping... GT:AD:DP:GQ:PGT:PID:PL 0/0:63,0:63:0:.:.:0,0,1444                         0/1:32,36:68:99:.:.:815,0,984                 0/0:83,0:83:0:.:.:0,0,1754            0/1:9,21:30:99:.:.:565,0,263                       0/0:45,5:50:5:0|1:1196_A_T:0,5,1188            0/0:99,0:99:99:.:.:0,120,1800                  0/1:58,21:79:99:.:.:384,0,1515                  0/0:13,0:13:0:.:.:0,0,90               0/0:10,0:10:24:.:.:0,24,360                               0/0:15,0:15:0:.:.:0,0,203\n",
       "  1414 . C T   324038.0  Low_VQSLOD;SubtelomericRepeat AC=2;AF=0.071;AN=20;BaseQRankSum=4.2;ClippingRa... GT:AD:DP:GQ:PGT:PID:PL 0/0:75,0:75:99:.:.:0,120,1800                      0/0:81,0:81:99:.:.:0,120,1800                 0/0:78,0:78:99:.:.:0,120,1800         0/1:51,18:69:99:.:.:527,0,1924                     0/1:53,28:81:99:0|1:1380_T_C:1010,0,2205       0/0:141,0:141:99:.:.:0,120,1800                0/0:121,8:129:52:0|1:1400_C_G:0,52,5427         0/0:6,0:6:18:.:.:0,18,178              0/0:28,0:28:57:.:.:0,57,855                             0/0:22,0:22:66:.:.:0,66,645\n",
       "  1435 . T C   495439.0  Low_VQSLOD;SubtelomericRepeat AC=1;AF=0.1;AN=20;BaseQRankSum=-4.336;ClippingR... GT:AD:DP:GQ:PGT:PID:PL 0/0:54,0:54:99:.:.:0,120,1800                      0/0:55,0:55:99:.:.:0,120,1800                 0/0:55,0:55:99:.:.:0,120,1800         0/0:68,0:68:99:.:.:0,120,1800                      0/0:75,0:75:99:.:.:0,120,1800                  0/0:107,0:107:99:.:.:0,120,1800                0/0:145,0:145:99:.:.:0,120,1800                 0/0:6,0:6:18:.:.:0,18,165              0/0:22,0:22:60:.:.:0,60,649                             0/1:14,3:17:84:.:.:84,0,578\n",
       "  1450 . A T,C 2703220.0 Low_VQSLOD;SubtelomericRepeat AC=7,1;AF=0.382,0.061;AN=20;BaseQRankSum=0.596;... GT:AD:DP:GQ:PGT:PID:PL 0/1:37,10,0:47:99:0|1:1216_T_C:159,0,1011,270,1... 0/1:41,7,0:48:99:.:.:154,0,1639,281,1660,1941 0/0:55,0,0:55:0:.:.:0,0,652,0,652,652 0/1:14,49,0:63:99:0|1:1450_A_T:2021,0,391,2063,... 0/1:18,41,0:59:99:.:.:1425,0,438,1479,564,2042 0/1:64,26,0:90:99:.:.:568,0,2596,769,2674,3443 0/1:88,34,0:122:99:.:.:597,0,3243,860,3344,4204 0/0:5,0,0:5:15:.:.:0,15,126,15,126,126 0/1:24,6,0:30:61:.:.:61,0,586,132,602,735  0/2:10,1,3:14:84:.:.:93,84,523,0,403,453"
      ]
     },
     "execution_count": 8,
     "metadata": {},
     "output_type": "execute_result"
    }
   ],
   "source": [
    "df_variant_formatted = pd.read_csv(vcf_file, sep=\"\\t\", comment=\"#\", names=columns, header=None)\n",
    "df_variant_formatted.head()"
   ]
  },
  {
   "cell_type": "code",
   "metadata": {
    "ExecuteTime": {
     "end_time": "2025-05-04T18:12:00.471697Z",
     "start_time": "2025-05-04T18:12:00.266426Z"
    }
   },
   "source": [
    "filt = df_variant_formatted['POS'] == 1196\n",
    "df_variant_formatted[filt]"
   ],
   "outputs": [
    {
     "ename": "NameError",
     "evalue": "name 'df_variant_formatted' is not defined",
     "output_type": "error",
     "traceback": [
      "\u001B[31m---------------------------------------------------------------------------\u001B[39m",
      "\u001B[31mNameError\u001B[39m                                 Traceback (most recent call last)",
      "\u001B[36mCell\u001B[39m\u001B[36m \u001B[39m\u001B[32mIn[1]\u001B[39m\u001B[32m, line 1\u001B[39m\n\u001B[32m----> \u001B[39m\u001B[32m1\u001B[39m filt = \u001B[43mdf_variant_formatted\u001B[49m[\u001B[33m'\u001B[39m\u001B[33mPOS\u001B[39m\u001B[33m'\u001B[39m] == \u001B[32m1196\u001B[39m\n\u001B[32m      2\u001B[39m df_variant_formatted[filt]\n",
      "\u001B[31mNameError\u001B[39m: name 'df_variant_formatted' is not defined"
     ]
    }
   ],
   "execution_count": 1
  },
  {
   "cell_type": "markdown",
   "metadata": {},
   "source": [
    "## Working on the large data"
   ]
  },
  {
   "cell_type": "code",
   "metadata": {
    "ExecuteTime": {
     "end_time": "2025-05-07T17:30:21.617801Z",
     "start_time": "2025-05-07T17:30:21.613848Z"
    }
   },
   "source": [
    "import pandas as pd\n",
    "\n",
    "# Columns that always remain same as said\n",
    "# fixed_columns = ['CHROM',\n",
    "#  'POS',\n",
    "#  'ID',\n",
    "#  'REF',\n",
    "#  'ALT',\n",
    "#  'QUAL',\n",
    "#  'FILTER',\n",
    "#  'INFO',\n",
    "#  'FORMAT',\n",
    "#  'PR0114-C',\n",
    "#  'PR0115-C',\n",
    "#  'PR0116-C',\n",
    "#  'PR0117-C',\n",
    "#  'PR0118-C',\n",
    "#  'PR0119-C',\n",
    "#  'PR0120-C',\n",
    "#  'PR0121-C',\n",
    "#  'PR0122-C',\n",
    "#  'PR0123-C']"
   ],
   "outputs": [],
   "execution_count": 66
  },
  {
   "cell_type": "markdown",
   "metadata": {},
   "source": "### Chunks method 2"
  },
  {
   "cell_type": "code",
   "metadata": {
    "ExecuteTime": {
     "end_time": "2025-05-06T17:29:20.691369Z",
     "start_time": "2025-05-06T17:29:20.252809Z"
    }
   },
   "source": [
    "chunk_size = 3\n",
    "\n",
    "def read_vcf_by_row(counter=2):\n",
    "    i = 0\n",
    "    for chunk in pd.read_csv(vcf_file2, sep=\"\\t\", comment=\"#\", chunksize= chunk_size):\n",
    "        # display(pd.DataFrame( columns=fixed_columns))\n",
    "        display(chunk.shape)\n",
    "        \n",
    "        # # chunk is a df\n",
    "        # for index, row in chunk.iterrows():\n",
    "        #     print(row)\n",
    "        i += 1\n",
    "        if i == counter:\n",
    "            break\n",
    "\n",
    "read_vcf_by_row(3)"
   ],
   "outputs": [
    {
     "ename": "FileNotFoundError",
     "evalue": "[Errno 2] No such file or directory: 'I:\\\\Genomic Project\\\\GAsP_1163Samples.InDels.Feb2020.vcf.gz'",
     "output_type": "error",
     "traceback": [
      "\u001B[31m---------------------------------------------------------------------------\u001B[39m",
      "\u001B[31mFileNotFoundError\u001B[39m                         Traceback (most recent call last)",
      "\u001B[36mCell\u001B[39m\u001B[36m \u001B[39m\u001B[32mIn[5]\u001B[39m\u001B[32m, line 16\u001B[39m\n\u001B[32m     13\u001B[39m         \u001B[38;5;28;01mif\u001B[39;00m i == counter:\n\u001B[32m     14\u001B[39m             \u001B[38;5;28;01mbreak\u001B[39;00m\n\u001B[32m---> \u001B[39m\u001B[32m16\u001B[39m \u001B[43mread_vcf_by_row\u001B[49m\u001B[43m(\u001B[49m\u001B[32;43m3\u001B[39;49m\u001B[43m)\u001B[49m\n",
      "\u001B[36mCell\u001B[39m\u001B[36m \u001B[39m\u001B[32mIn[5]\u001B[39m\u001B[32m, line 5\u001B[39m, in \u001B[36mread_vcf_by_row\u001B[39m\u001B[34m(counter)\u001B[39m\n\u001B[32m      3\u001B[39m \u001B[38;5;28;01mdef\u001B[39;00m\u001B[38;5;250m \u001B[39m\u001B[34mread_vcf_by_row\u001B[39m(counter=\u001B[32m2\u001B[39m):\n\u001B[32m      4\u001B[39m     i = \u001B[32m0\u001B[39m\n\u001B[32m----> \u001B[39m\u001B[32m5\u001B[39m     \u001B[38;5;28;01mfor\u001B[39;00m chunk \u001B[38;5;129;01min\u001B[39;00m \u001B[43mpd\u001B[49m\u001B[43m.\u001B[49m\u001B[43mread_csv\u001B[49m\u001B[43m(\u001B[49m\u001B[43mvcf_file2\u001B[49m\u001B[43m,\u001B[49m\u001B[43m \u001B[49m\u001B[43msep\u001B[49m\u001B[43m=\u001B[49m\u001B[33;43m\"\u001B[39;49m\u001B[38;5;130;43;01m\\t\u001B[39;49;00m\u001B[33;43m\"\u001B[39;49m\u001B[43m,\u001B[49m\u001B[43m \u001B[49m\u001B[43mcomment\u001B[49m\u001B[43m=\u001B[49m\u001B[33;43m\"\u001B[39;49m\u001B[33;43m#\u001B[39;49m\u001B[33;43m\"\u001B[39;49m\u001B[43m,\u001B[49m\u001B[43m \u001B[49m\u001B[43mchunksize\u001B[49m\u001B[43m=\u001B[49m\u001B[43m \u001B[49m\u001B[43mchunk_size\u001B[49m\u001B[43m)\u001B[49m:\n\u001B[32m      6\u001B[39m         \u001B[38;5;66;03m# display(pd.DataFrame( columns=fixed_columns))\u001B[39;00m\n\u001B[32m      7\u001B[39m         display(chunk.shape)\n\u001B[32m      9\u001B[39m         \u001B[38;5;66;03m# # chunk is a df\u001B[39;00m\n\u001B[32m     10\u001B[39m         \u001B[38;5;66;03m# for index, row in chunk.iterrows():\u001B[39;00m\n\u001B[32m     11\u001B[39m         \u001B[38;5;66;03m#     print(row)\u001B[39;00m\n",
      "\u001B[36mFile \u001B[39m\u001B[32mD:\\Genome Asia main file\\Genome Asia Data\\.venv1\\Lib\\site-packages\\pandas\\io\\parsers\\readers.py:1026\u001B[39m, in \u001B[36mread_csv\u001B[39m\u001B[34m(filepath_or_buffer, sep, delimiter, header, names, index_col, usecols, dtype, engine, converters, true_values, false_values, skipinitialspace, skiprows, skipfooter, nrows, na_values, keep_default_na, na_filter, verbose, skip_blank_lines, parse_dates, infer_datetime_format, keep_date_col, date_parser, date_format, dayfirst, cache_dates, iterator, chunksize, compression, thousands, decimal, lineterminator, quotechar, quoting, doublequote, escapechar, comment, encoding, encoding_errors, dialect, on_bad_lines, delim_whitespace, low_memory, memory_map, float_precision, storage_options, dtype_backend)\u001B[39m\n\u001B[32m   1013\u001B[39m kwds_defaults = _refine_defaults_read(\n\u001B[32m   1014\u001B[39m     dialect,\n\u001B[32m   1015\u001B[39m     delimiter,\n\u001B[32m   (...)\u001B[39m\u001B[32m   1022\u001B[39m     dtype_backend=dtype_backend,\n\u001B[32m   1023\u001B[39m )\n\u001B[32m   1024\u001B[39m kwds.update(kwds_defaults)\n\u001B[32m-> \u001B[39m\u001B[32m1026\u001B[39m \u001B[38;5;28;01mreturn\u001B[39;00m \u001B[43m_read\u001B[49m\u001B[43m(\u001B[49m\u001B[43mfilepath_or_buffer\u001B[49m\u001B[43m,\u001B[49m\u001B[43m \u001B[49m\u001B[43mkwds\u001B[49m\u001B[43m)\u001B[49m\n",
      "\u001B[36mFile \u001B[39m\u001B[32mD:\\Genome Asia main file\\Genome Asia Data\\.venv1\\Lib\\site-packages\\pandas\\io\\parsers\\readers.py:620\u001B[39m, in \u001B[36m_read\u001B[39m\u001B[34m(filepath_or_buffer, kwds)\u001B[39m\n\u001B[32m    617\u001B[39m _validate_names(kwds.get(\u001B[33m\"\u001B[39m\u001B[33mnames\u001B[39m\u001B[33m\"\u001B[39m, \u001B[38;5;28;01mNone\u001B[39;00m))\n\u001B[32m    619\u001B[39m \u001B[38;5;66;03m# Create the parser.\u001B[39;00m\n\u001B[32m--> \u001B[39m\u001B[32m620\u001B[39m parser = \u001B[43mTextFileReader\u001B[49m\u001B[43m(\u001B[49m\u001B[43mfilepath_or_buffer\u001B[49m\u001B[43m,\u001B[49m\u001B[43m \u001B[49m\u001B[43m*\u001B[49m\u001B[43m*\u001B[49m\u001B[43mkwds\u001B[49m\u001B[43m)\u001B[49m\n\u001B[32m    622\u001B[39m \u001B[38;5;28;01mif\u001B[39;00m chunksize \u001B[38;5;129;01mor\u001B[39;00m iterator:\n\u001B[32m    623\u001B[39m     \u001B[38;5;28;01mreturn\u001B[39;00m parser\n",
      "\u001B[36mFile \u001B[39m\u001B[32mD:\\Genome Asia main file\\Genome Asia Data\\.venv1\\Lib\\site-packages\\pandas\\io\\parsers\\readers.py:1620\u001B[39m, in \u001B[36mTextFileReader.__init__\u001B[39m\u001B[34m(self, f, engine, **kwds)\u001B[39m\n\u001B[32m   1617\u001B[39m     \u001B[38;5;28mself\u001B[39m.options[\u001B[33m\"\u001B[39m\u001B[33mhas_index_names\u001B[39m\u001B[33m\"\u001B[39m] = kwds[\u001B[33m\"\u001B[39m\u001B[33mhas_index_names\u001B[39m\u001B[33m\"\u001B[39m]\n\u001B[32m   1619\u001B[39m \u001B[38;5;28mself\u001B[39m.handles: IOHandles | \u001B[38;5;28;01mNone\u001B[39;00m = \u001B[38;5;28;01mNone\u001B[39;00m\n\u001B[32m-> \u001B[39m\u001B[32m1620\u001B[39m \u001B[38;5;28mself\u001B[39m._engine = \u001B[38;5;28;43mself\u001B[39;49m\u001B[43m.\u001B[49m\u001B[43m_make_engine\u001B[49m\u001B[43m(\u001B[49m\u001B[43mf\u001B[49m\u001B[43m,\u001B[49m\u001B[43m \u001B[49m\u001B[38;5;28;43mself\u001B[39;49m\u001B[43m.\u001B[49m\u001B[43mengine\u001B[49m\u001B[43m)\u001B[49m\n",
      "\u001B[36mFile \u001B[39m\u001B[32mD:\\Genome Asia main file\\Genome Asia Data\\.venv1\\Lib\\site-packages\\pandas\\io\\parsers\\readers.py:1880\u001B[39m, in \u001B[36mTextFileReader._make_engine\u001B[39m\u001B[34m(self, f, engine)\u001B[39m\n\u001B[32m   1878\u001B[39m     \u001B[38;5;28;01mif\u001B[39;00m \u001B[33m\"\u001B[39m\u001B[33mb\u001B[39m\u001B[33m\"\u001B[39m \u001B[38;5;129;01mnot\u001B[39;00m \u001B[38;5;129;01min\u001B[39;00m mode:\n\u001B[32m   1879\u001B[39m         mode += \u001B[33m\"\u001B[39m\u001B[33mb\u001B[39m\u001B[33m\"\u001B[39m\n\u001B[32m-> \u001B[39m\u001B[32m1880\u001B[39m \u001B[38;5;28mself\u001B[39m.handles = \u001B[43mget_handle\u001B[49m\u001B[43m(\u001B[49m\n\u001B[32m   1881\u001B[39m \u001B[43m    \u001B[49m\u001B[43mf\u001B[49m\u001B[43m,\u001B[49m\n\u001B[32m   1882\u001B[39m \u001B[43m    \u001B[49m\u001B[43mmode\u001B[49m\u001B[43m,\u001B[49m\n\u001B[32m   1883\u001B[39m \u001B[43m    \u001B[49m\u001B[43mencoding\u001B[49m\u001B[43m=\u001B[49m\u001B[38;5;28;43mself\u001B[39;49m\u001B[43m.\u001B[49m\u001B[43moptions\u001B[49m\u001B[43m.\u001B[49m\u001B[43mget\u001B[49m\u001B[43m(\u001B[49m\u001B[33;43m\"\u001B[39;49m\u001B[33;43mencoding\u001B[39;49m\u001B[33;43m\"\u001B[39;49m\u001B[43m,\u001B[49m\u001B[43m \u001B[49m\u001B[38;5;28;43;01mNone\u001B[39;49;00m\u001B[43m)\u001B[49m\u001B[43m,\u001B[49m\n\u001B[32m   1884\u001B[39m \u001B[43m    \u001B[49m\u001B[43mcompression\u001B[49m\u001B[43m=\u001B[49m\u001B[38;5;28;43mself\u001B[39;49m\u001B[43m.\u001B[49m\u001B[43moptions\u001B[49m\u001B[43m.\u001B[49m\u001B[43mget\u001B[49m\u001B[43m(\u001B[49m\u001B[33;43m\"\u001B[39;49m\u001B[33;43mcompression\u001B[39;49m\u001B[33;43m\"\u001B[39;49m\u001B[43m,\u001B[49m\u001B[43m \u001B[49m\u001B[38;5;28;43;01mNone\u001B[39;49;00m\u001B[43m)\u001B[49m\u001B[43m,\u001B[49m\n\u001B[32m   1885\u001B[39m \u001B[43m    \u001B[49m\u001B[43mmemory_map\u001B[49m\u001B[43m=\u001B[49m\u001B[38;5;28;43mself\u001B[39;49m\u001B[43m.\u001B[49m\u001B[43moptions\u001B[49m\u001B[43m.\u001B[49m\u001B[43mget\u001B[49m\u001B[43m(\u001B[49m\u001B[33;43m\"\u001B[39;49m\u001B[33;43mmemory_map\u001B[39;49m\u001B[33;43m\"\u001B[39;49m\u001B[43m,\u001B[49m\u001B[43m \u001B[49m\u001B[38;5;28;43;01mFalse\u001B[39;49;00m\u001B[43m)\u001B[49m\u001B[43m,\u001B[49m\n\u001B[32m   1886\u001B[39m \u001B[43m    \u001B[49m\u001B[43mis_text\u001B[49m\u001B[43m=\u001B[49m\u001B[43mis_text\u001B[49m\u001B[43m,\u001B[49m\n\u001B[32m   1887\u001B[39m \u001B[43m    \u001B[49m\u001B[43merrors\u001B[49m\u001B[43m=\u001B[49m\u001B[38;5;28;43mself\u001B[39;49m\u001B[43m.\u001B[49m\u001B[43moptions\u001B[49m\u001B[43m.\u001B[49m\u001B[43mget\u001B[49m\u001B[43m(\u001B[49m\u001B[33;43m\"\u001B[39;49m\u001B[33;43mencoding_errors\u001B[39;49m\u001B[33;43m\"\u001B[39;49m\u001B[43m,\u001B[49m\u001B[43m \u001B[49m\u001B[33;43m\"\u001B[39;49m\u001B[33;43mstrict\u001B[39;49m\u001B[33;43m\"\u001B[39;49m\u001B[43m)\u001B[49m\u001B[43m,\u001B[49m\n\u001B[32m   1888\u001B[39m \u001B[43m    \u001B[49m\u001B[43mstorage_options\u001B[49m\u001B[43m=\u001B[49m\u001B[38;5;28;43mself\u001B[39;49m\u001B[43m.\u001B[49m\u001B[43moptions\u001B[49m\u001B[43m.\u001B[49m\u001B[43mget\u001B[49m\u001B[43m(\u001B[49m\u001B[33;43m\"\u001B[39;49m\u001B[33;43mstorage_options\u001B[39;49m\u001B[33;43m\"\u001B[39;49m\u001B[43m,\u001B[49m\u001B[43m \u001B[49m\u001B[38;5;28;43;01mNone\u001B[39;49;00m\u001B[43m)\u001B[49m\u001B[43m,\u001B[49m\n\u001B[32m   1889\u001B[39m \u001B[43m\u001B[49m\u001B[43m)\u001B[49m\n\u001B[32m   1890\u001B[39m \u001B[38;5;28;01massert\u001B[39;00m \u001B[38;5;28mself\u001B[39m.handles \u001B[38;5;129;01mis\u001B[39;00m \u001B[38;5;129;01mnot\u001B[39;00m \u001B[38;5;28;01mNone\u001B[39;00m\n\u001B[32m   1891\u001B[39m f = \u001B[38;5;28mself\u001B[39m.handles.handle\n",
      "\u001B[36mFile \u001B[39m\u001B[32mD:\\Genome Asia main file\\Genome Asia Data\\.venv1\\Lib\\site-packages\\pandas\\io\\common.py:765\u001B[39m, in \u001B[36mget_handle\u001B[39m\u001B[34m(path_or_buf, mode, encoding, compression, memory_map, is_text, errors, storage_options)\u001B[39m\n\u001B[32m    761\u001B[39m \u001B[38;5;28;01mif\u001B[39;00m compression == \u001B[33m\"\u001B[39m\u001B[33mgzip\u001B[39m\u001B[33m\"\u001B[39m:\n\u001B[32m    762\u001B[39m     \u001B[38;5;28;01mif\u001B[39;00m \u001B[38;5;28misinstance\u001B[39m(handle, \u001B[38;5;28mstr\u001B[39m):\n\u001B[32m    763\u001B[39m         \u001B[38;5;66;03m# error: Incompatible types in assignment (expression has type\u001B[39;00m\n\u001B[32m    764\u001B[39m         \u001B[38;5;66;03m# \"GzipFile\", variable has type \"Union[str, BaseBuffer]\")\u001B[39;00m\n\u001B[32m--> \u001B[39m\u001B[32m765\u001B[39m         handle = \u001B[43mgzip\u001B[49m\u001B[43m.\u001B[49m\u001B[43mGzipFile\u001B[49m\u001B[43m(\u001B[49m\u001B[43m  \u001B[49m\u001B[38;5;66;43;03m# type: ignore[assignment]\u001B[39;49;00m\n\u001B[32m    766\u001B[39m \u001B[43m            \u001B[49m\u001B[43mfilename\u001B[49m\u001B[43m=\u001B[49m\u001B[43mhandle\u001B[49m\u001B[43m,\u001B[49m\n\u001B[32m    767\u001B[39m \u001B[43m            \u001B[49m\u001B[43mmode\u001B[49m\u001B[43m=\u001B[49m\u001B[43mioargs\u001B[49m\u001B[43m.\u001B[49m\u001B[43mmode\u001B[49m\u001B[43m,\u001B[49m\n\u001B[32m    768\u001B[39m \u001B[43m            \u001B[49m\u001B[43m*\u001B[49m\u001B[43m*\u001B[49m\u001B[43mcompression_args\u001B[49m\u001B[43m,\u001B[49m\n\u001B[32m    769\u001B[39m \u001B[43m        \u001B[49m\u001B[43m)\u001B[49m\n\u001B[32m    770\u001B[39m     \u001B[38;5;28;01melse\u001B[39;00m:\n\u001B[32m    771\u001B[39m         handle = gzip.GzipFile(\n\u001B[32m    772\u001B[39m             \u001B[38;5;66;03m# No overload variant of \"GzipFile\" matches argument types\u001B[39;00m\n\u001B[32m    773\u001B[39m             \u001B[38;5;66;03m# \"Union[str, BaseBuffer]\", \"str\", \"Dict[str, Any]\"\u001B[39;00m\n\u001B[32m   (...)\u001B[39m\u001B[32m    776\u001B[39m             **compression_args,\n\u001B[32m    777\u001B[39m         )\n",
      "\u001B[36mFile \u001B[39m\u001B[32mC:\\Program Files\\WindowsApps\\PythonSoftwareFoundation.Python.3.12_3.12.2800.0_x64__qbz5n2kfra8p0\\Lib\\gzip.py:201\u001B[39m, in \u001B[36mGzipFile.__init__\u001B[39m\u001B[34m(self, filename, mode, compresslevel, fileobj, mtime)\u001B[39m\n\u001B[32m    199\u001B[39m \u001B[38;5;28;01mtry\u001B[39;00m:\n\u001B[32m    200\u001B[39m     \u001B[38;5;28;01mif\u001B[39;00m fileobj \u001B[38;5;129;01mis\u001B[39;00m \u001B[38;5;28;01mNone\u001B[39;00m:\n\u001B[32m--> \u001B[39m\u001B[32m201\u001B[39m         fileobj = \u001B[38;5;28mself\u001B[39m.myfileobj = \u001B[43mbuiltins\u001B[49m\u001B[43m.\u001B[49m\u001B[43mopen\u001B[49m\u001B[43m(\u001B[49m\u001B[43mfilename\u001B[49m\u001B[43m,\u001B[49m\u001B[43m \u001B[49m\u001B[43mmode\u001B[49m\u001B[43m \u001B[49m\u001B[38;5;129;43;01mor\u001B[39;49;00m\u001B[43m \u001B[49m\u001B[33;43m'\u001B[39;49m\u001B[33;43mrb\u001B[39;49m\u001B[33;43m'\u001B[39;49m\u001B[43m)\u001B[49m\n\u001B[32m    202\u001B[39m     \u001B[38;5;28;01mif\u001B[39;00m filename \u001B[38;5;129;01mis\u001B[39;00m \u001B[38;5;28;01mNone\u001B[39;00m:\n\u001B[32m    203\u001B[39m         filename = \u001B[38;5;28mgetattr\u001B[39m(fileobj, \u001B[33m'\u001B[39m\u001B[33mname\u001B[39m\u001B[33m'\u001B[39m, \u001B[33m'\u001B[39m\u001B[33m'\u001B[39m)\n",
      "\u001B[31mFileNotFoundError\u001B[39m: [Errno 2] No such file or directory: 'I:\\\\Genomic Project\\\\GAsP_1163Samples.InDels.Feb2020.vcf.gz'"
     ]
    }
   ],
   "execution_count": 5
  },
  {
   "cell_type": "markdown",
   "metadata": {},
   "source": [
    "### Chunks method 1\n",
    "TODO:\n",
    "- Col mismatch (DONE!)\n",
    "- Potential issues with the data preprocessing in conversion to pandas df from vcf file (DONE!)\n",
    "- Combining chunk to single df and saving it to files (DONE!)\n",
    "- Issue the last CHROM position was not showing all values with save option (DONE!)"
   ]
  },
  {
   "cell_type": "code",
   "metadata": {
    "ExecuteTime": {
     "end_time": "2025-05-09T07:36:41.962202Z",
     "start_time": "2025-05-09T07:36:41.954080Z"
    }
   },
   "source": [
    "# Functions\n",
    "i = 0\n",
    "\n",
    "class VCFManipulate:\n",
    "\n",
    "    def __init__(self, vcf_file_input):\n",
    "        self.vcf_file = vcf_file_input\n",
    "        self.columns = fixed_columns\n",
    "        self.chunk_size = 10000000\n",
    "        self.output_df = pd.DataFrame(columns=self.columns)  # raw df for saving\n",
    "        self.GOT_OUTPUT = False  # set false to check the first time we get the output\n",
    "\n",
    "    # Reading the file\n",
    "    def read_vcf(self, shownum=100, i=1):\n",
    "\n",
    "        with pd.read_csv(self.vcf_file, sep=\"\\t\", comment=\"#\", names=self.columns, chunksize= self.chunk_size) as reader:\n",
    "            for chunk in reader:\n",
    "                print(f\"\\nWorking on chunk: {i}, shape: {chunk.shape}\")\n",
    "\n",
    "                \"\"\"Do something with the chunk here >>\"\"\"\n",
    "\n",
    "                # Processing of rows\n",
    "                filt = chunk['CHROM'] == 'Y'  # CONDITION >>\n",
    "                display_chunk = chunk.loc[filt].dropna(axis=0, how='all')  # note dropping the NA rows\n",
    "\n",
    "                i += 1  # update the counter\n",
    "\n",
    "                # Intelligent stop condition\n",
    "                ## Trying to find the number of rows in the chunk\n",
    "                number_of_rows = display_chunk.shape[0]\n",
    "                print(f\"No. of rows found: {number_of_rows}\")\n",
    "\n",
    "                # Concate the display_chunk to the output_df\n",
    "                self.output_df = pd.concat([self.output_df, display_chunk], ignore_index=True, axis=0)\n",
    "\n",
    "\n",
    "                ## Check the first time we get data rows\n",
    "                if (number_of_rows != 0) and self.GOT_OUTPUT == False:\n",
    "                    self.GOT_OUTPUT = True\n",
    "                    print(\"Found rows for the first time...\")\n",
    "\n",
    "                ## If the second time we get 0 rows OR we reach the end, we stop the loop\n",
    "                if (number_of_rows == 0 and self.GOT_OUTPUT == True) or (chunk.shape[0] < self.chunk_size and self.GOT_OUTPUT == True):\n",
    "                    print(f\"Chunk {i} has 0 rows filtered. Stopping loop...\")\n",
    "                    \"\"\"Add loop stop code here >>\"\"\"\n",
    "                    ### Update the row df with the chunk data\n",
    "\n",
    "                    print(f\"\\nFinal Output df {self.output_df.shape}: \" )\n",
    "                    display(self.output_df)\n",
    "\n",
    "                    ### Ask to save the output_df file >>\n",
    "                    ans = input(\"Do you want to save the Final output_df (y/N): \")\n",
    "                    if ans == 'y':\n",
    "                        ans = input(\"Enter name of the CSV file to save: \")\n",
    "                        self.output_df.to_csv(f\"{ans}.csv\", index=False)\n",
    "                        print(f\"File {ans}.csv saved successfully!\")\n",
    "                    else:\n",
    "                        print(\"File not saved.\")\n",
    "\n",
    "                    ### Break out of the block\n",
    "                    break\n",
    "\n",
    "                # Display the chunk after all the processing\n",
    "                if self.GOT_OUTPUT:\n",
    "                    display(display_chunk) # display the filtered rows\n",
    "\n",
    "                # Check the status of output_df after each chunk iteration >>\n",
    "                # print(f\"\\nOutput df {self.output_df.shape}: \" )\n",
    "                # display(self.output_df)\n",
    "\n",
    "                # # Stop condition\n",
    "                # if i > shownum:\n",
    "                #     break\n",
    "\n",
    "    def display_vcf(self):\n",
    "        with pd.read_csv(vcf_file, sep=\"\\t\", comment=\"#\", names=self.columns, chunksize= self.chunk_size) as reader:\n",
    "            for chunk in reader:\n",
    "                pass"
   ],
   "outputs": [],
   "execution_count": 83
  },
  {
   "cell_type": "code",
   "metadata": {
    "ExecuteTime": {
     "end_time": "2025-05-09T08:20:23.673953Z",
     "start_time": "2025-05-09T07:36:46.459622Z"
    }
   },
   "source": [
    "\n",
    "vcf = VCFManipulate(vcf_file3)  # change file to be displayed in chunks\n",
    "vcf.read_vcf()"
   ],
   "outputs": [
    {
     "name": "stdout",
     "output_type": "stream",
     "text": [
      "\n",
      "Working on chunk: 1, shape: (10000000, 8)\n",
      "No. of rows found: 0\n",
      "\n",
      "Working on chunk: 2, shape: (10000000, 8)\n",
      "No. of rows found: 0\n",
      "\n",
      "Working on chunk: 3, shape: (10000000, 8)\n",
      "No. of rows found: 0\n",
      "\n",
      "Working on chunk: 4, shape: (10000000, 8)\n",
      "No. of rows found: 0\n",
      "\n",
      "Working on chunk: 5, shape: (10000000, 8)\n",
      "No. of rows found: 0\n",
      "\n",
      "Working on chunk: 6, shape: (10000000, 8)\n",
      "No. of rows found: 0\n",
      "\n",
      "Working on chunk: 7, shape: (10000000, 8)\n",
      "No. of rows found: 0\n",
      "\n",
      "Working on chunk: 8, shape: (10000000, 8)\n",
      "No. of rows found: 0\n",
      "\n",
      "Working on chunk: 9, shape: (10000000, 8)\n",
      "No. of rows found: 0\n",
      "\n",
      "Working on chunk: 10, shape: (10000000, 8)\n",
      "No. of rows found: 0\n",
      "\n",
      "Working on chunk: 11, shape: (10000000, 8)\n",
      "No. of rows found: 0\n",
      "\n",
      "Working on chunk: 12, shape: (10000000, 8)\n",
      "No. of rows found: 0\n",
      "\n",
      "Working on chunk: 13, shape: (10000000, 8)\n",
      "No. of rows found: 0\n",
      "\n",
      "Working on chunk: 14, shape: (10000000, 8)\n",
      "No. of rows found: 0\n",
      "\n",
      "Working on chunk: 15, shape: (10000000, 8)\n",
      "No. of rows found: 0\n",
      "\n",
      "Working on chunk: 16, shape: (10000000, 8)\n",
      "No. of rows found: 0\n",
      "\n",
      "Working on chunk: 17, shape: (10000000, 8)\n",
      "No. of rows found: 0\n",
      "\n",
      "Working on chunk: 18, shape: (10000000, 8)\n",
      "No. of rows found: 0\n",
      "\n",
      "Working on chunk: 19, shape: (10000000, 8)\n",
      "No. of rows found: 0\n",
      "\n",
      "Working on chunk: 20, shape: (10000000, 8)\n",
      "No. of rows found: 0\n",
      "\n",
      "Working on chunk: 21, shape: (10000000, 8)\n",
      "No. of rows found: 0\n",
      "\n",
      "Working on chunk: 22, shape: (10000000, 8)\n",
      "No. of rows found: 0\n",
      "\n",
      "Working on chunk: 23, shape: (10000000, 8)\n",
      "No. of rows found: 0\n",
      "\n",
      "Working on chunk: 24, shape: (10000000, 8)\n",
      "No. of rows found: 0\n",
      "\n",
      "Working on chunk: 25, shape: (10000000, 8)\n",
      "No. of rows found: 0\n",
      "\n",
      "Working on chunk: 26, shape: (10000000, 8)\n",
      "No. of rows found: 0\n",
      "\n",
      "Working on chunk: 27, shape: (10000000, 8)\n",
      "No. of rows found: 0\n",
      "\n",
      "Working on chunk: 28, shape: (10000000, 8)\n",
      "No. of rows found: 0\n",
      "\n",
      "Working on chunk: 29, shape: (10000000, 8)\n",
      "No. of rows found: 0\n",
      "\n",
      "Working on chunk: 30, shape: (10000000, 8)\n",
      "No. of rows found: 0\n",
      "\n",
      "Working on chunk: 31, shape: (10000000, 8)\n",
      "No. of rows found: 0\n",
      "\n",
      "Working on chunk: 32, shape: (10000000, 8)\n",
      "No. of rows found: 0\n",
      "\n",
      "Working on chunk: 33, shape: (10000000, 8)\n",
      "No. of rows found: 0\n",
      "\n",
      "Working on chunk: 34, shape: (10000000, 8)\n",
      "No. of rows found: 0\n",
      "\n",
      "Working on chunk: 35, shape: (10000000, 8)\n",
      "No. of rows found: 0\n",
      "\n",
      "Working on chunk: 36, shape: (10000000, 8)\n",
      "No. of rows found: 0\n",
      "\n",
      "Working on chunk: 37, shape: (10000000, 8)\n",
      "No. of rows found: 0\n",
      "\n",
      "Working on chunk: 38, shape: (10000000, 8)\n",
      "No. of rows found: 0\n",
      "\n",
      "Working on chunk: 39, shape: (10000000, 8)\n",
      "No. of rows found: 0\n",
      "\n",
      "Working on chunk: 40, shape: (10000000, 8)\n",
      "No. of rows found: 0\n",
      "\n",
      "Working on chunk: 41, shape: (10000000, 8)\n",
      "No. of rows found: 0\n",
      "\n",
      "Working on chunk: 42, shape: (10000000, 8)\n",
      "No. of rows found: 0\n",
      "\n",
      "Working on chunk: 43, shape: (10000000, 8)\n",
      "No. of rows found: 0\n",
      "\n",
      "Working on chunk: 44, shape: (10000000, 8)\n",
      "No. of rows found: 0\n",
      "\n",
      "Working on chunk: 45, shape: (10000000, 8)\n",
      "No. of rows found: 0\n",
      "\n",
      "Working on chunk: 46, shape: (10000000, 8)\n",
      "No. of rows found: 0\n",
      "\n",
      "Working on chunk: 47, shape: (10000000, 8)\n",
      "No. of rows found: 0\n",
      "\n",
      "Working on chunk: 48, shape: (10000000, 8)\n",
      "No. of rows found: 0\n",
      "\n",
      "Working on chunk: 49, shape: (10000000, 8)\n",
      "No. of rows found: 0\n",
      "\n",
      "Working on chunk: 50, shape: (10000000, 8)\n",
      "No. of rows found: 0\n",
      "\n",
      "Working on chunk: 51, shape: (10000000, 8)\n",
      "No. of rows found: 0\n",
      "\n",
      "Working on chunk: 52, shape: (10000000, 8)\n",
      "No. of rows found: 0\n",
      "\n",
      "Working on chunk: 53, shape: (10000000, 8)\n",
      "No. of rows found: 0\n",
      "\n",
      "Working on chunk: 54, shape: (10000000, 8)\n",
      "No. of rows found: 0\n",
      "\n",
      "Working on chunk: 55, shape: (10000000, 8)\n",
      "No. of rows found: 0\n",
      "\n",
      "Working on chunk: 56, shape: (10000000, 8)\n",
      "No. of rows found: 0\n",
      "\n",
      "Working on chunk: 57, shape: (10000000, 8)\n",
      "No. of rows found: 0\n",
      "\n",
      "Working on chunk: 58, shape: (10000000, 8)\n",
      "No. of rows found: 0\n",
      "\n",
      "Working on chunk: 59, shape: (10000000, 8)\n",
      "No. of rows found: 0\n",
      "\n",
      "Working on chunk: 60, shape: (10000000, 8)\n",
      "No. of rows found: 0\n",
      "\n",
      "Working on chunk: 61, shape: (10000000, 8)\n",
      "No. of rows found: 0\n",
      "\n",
      "Working on chunk: 62, shape: (10000000, 8)\n",
      "No. of rows found: 0\n",
      "\n",
      "Working on chunk: 63, shape: (10000000, 8)\n",
      "No. of rows found: 0\n",
      "\n",
      "Working on chunk: 64, shape: (10000000, 8)\n",
      "No. of rows found: 0\n",
      "\n",
      "Working on chunk: 65, shape: (10000000, 8)\n",
      "No. of rows found: 0\n",
      "\n",
      "Working on chunk: 66, shape: (10000000, 8)\n",
      "No. of rows found: 0\n",
      "\n",
      "Working on chunk: 67, shape: (10000000, 8)\n",
      "No. of rows found: 0\n",
      "\n",
      "Working on chunk: 68, shape: (10000000, 8)\n",
      "No. of rows found: 0\n",
      "\n",
      "Working on chunk: 69, shape: (10000000, 8)\n",
      "No. of rows found: 0\n",
      "\n",
      "Working on chunk: 70, shape: (10000000, 8)\n",
      "No. of rows found: 0\n",
      "\n",
      "Working on chunk: 71, shape: (10000000, 8)\n",
      "No. of rows found: 0\n",
      "\n",
      "Working on chunk: 72, shape: (10000000, 8)\n",
      "No. of rows found: 0\n",
      "\n",
      "Working on chunk: 73, shape: (10000000, 8)\n",
      "No. of rows found: 0\n",
      "\n",
      "Working on chunk: 74, shape: (10000000, 8)\n",
      "No. of rows found: 0\n",
      "\n",
      "Working on chunk: 75, shape: (10000000, 8)\n",
      "No. of rows found: 0\n",
      "\n",
      "Working on chunk: 76, shape: (10000000, 8)\n",
      "No. of rows found: 0\n",
      "\n",
      "Working on chunk: 77, shape: (10000000, 8)\n",
      "No. of rows found: 0\n",
      "\n",
      "Working on chunk: 78, shape: (10000000, 8)\n",
      "No. of rows found: 0\n",
      "\n",
      "Working on chunk: 79, shape: (10000000, 8)\n",
      "No. of rows found: 0\n",
      "\n",
      "Working on chunk: 80, shape: (10000000, 8)\n",
      "No. of rows found: 0\n",
      "\n",
      "Working on chunk: 81, shape: (10000000, 8)\n",
      "No. of rows found: 0\n",
      "\n",
      "Working on chunk: 82, shape: (10000000, 8)\n",
      "No. of rows found: 0\n",
      "\n",
      "Working on chunk: 83, shape: (10000000, 8)\n",
      "No. of rows found: 0\n",
      "\n",
      "Working on chunk: 84, shape: (10000000, 8)\n",
      "No. of rows found: 0\n",
      "\n",
      "Working on chunk: 85, shape: (10000000, 8)\n",
      "No. of rows found: 0\n",
      "\n",
      "Working on chunk: 86, shape: (10000000, 8)\n",
      "No. of rows found: 0\n",
      "\n",
      "Working on chunk: 87, shape: (10000000, 8)\n",
      "No. of rows found: 0\n",
      "\n",
      "Working on chunk: 88, shape: (10000000, 8)\n",
      "No. of rows found: 0\n",
      "\n",
      "Working on chunk: 89, shape: (10000000, 8)\n",
      "No. of rows found: 0\n",
      "\n",
      "Working on chunk: 90, shape: (10000000, 8)\n",
      "No. of rows found: 0\n",
      "\n",
      "Working on chunk: 91, shape: (10000000, 8)\n",
      "No. of rows found: 0\n",
      "\n",
      "Working on chunk: 92, shape: (10000000, 8)\n",
      "No. of rows found: 0\n",
      "\n",
      "Working on chunk: 93, shape: (10000000, 8)\n",
      "No. of rows found: 0\n",
      "\n",
      "Working on chunk: 94, shape: (10000000, 8)\n",
      "No. of rows found: 0\n",
      "\n",
      "Working on chunk: 95, shape: (10000000, 8)\n",
      "No. of rows found: 0\n",
      "\n",
      "Working on chunk: 96, shape: (10000000, 8)\n",
      "No. of rows found: 0\n",
      "\n",
      "Working on chunk: 97, shape: (10000000, 8)\n",
      "No. of rows found: 0\n",
      "\n",
      "Working on chunk: 98, shape: (10000000, 8)\n",
      "No. of rows found: 0\n",
      "\n",
      "Working on chunk: 99, shape: (10000000, 8)\n",
      "No. of rows found: 0\n",
      "\n",
      "Working on chunk: 100, shape: (10000000, 8)\n",
      "No. of rows found: 0\n",
      "\n",
      "Working on chunk: 101, shape: (10000000, 8)\n",
      "No. of rows found: 0\n",
      "\n",
      "Working on chunk: 102, shape: (10000000, 8)\n",
      "No. of rows found: 0\n",
      "\n",
      "Working on chunk: 103, shape: (9905476, 8)\n",
      "No. of rows found: 0\n"
     ]
    }
   ],
   "execution_count": 84
  },
  {
   "metadata": {
    "ExecuteTime": {
     "end_time": "2025-05-09T09:06:09.342345Z",
     "start_time": "2025-05-09T09:06:09.001208Z"
    }
   },
   "cell_type": "code",
   "source": [
    "df = pd.read_csv(vcf_file, sep=\"\\t\", comment=\"#\", names=fixed_columns)\n",
    "df[df['CHROM'] == 14].shape\n"
   ],
   "outputs": [
    {
     "data": {
      "text/plain": [
       "(0, 8)"
      ]
     },
     "execution_count": 87,
     "metadata": {},
     "output_type": "execute_result"
    }
   ],
   "execution_count": 87
  },
  {
   "metadata": {
    "ExecuteTime": {
     "end_time": "2025-05-09T09:06:11.113373Z",
     "start_time": "2025-05-09T09:06:11.103075Z"
    }
   },
   "cell_type": "code",
   "source": "import pandas as pd",
   "outputs": [],
   "execution_count": 88
  },
  {
   "metadata": {
    "ExecuteTime": {
     "end_time": "2025-05-07T12:20:03.380625Z",
     "start_time": "2025-05-07T12:20:03.375298Z"
    }
   },
   "cell_type": "code",
   "source": "vcf_file3 = \"chm13v2.0_dbSNPv155(1).vcf.gz\"",
   "outputs": [],
   "execution_count": 60
  },
  {
   "metadata": {
    "ExecuteTime": {
     "end_time": "2025-05-09T09:06:04.779637Z",
     "start_time": "2025-05-09T09:06:04.768123Z"
    }
   },
   "cell_type": "code",
   "source": [
    "def get_vcf_header(vcf_file_input):\n",
    "    import gzip\n",
    "    header_line = \"\"\n",
    "    # set the opener if it is gzip\n",
    "    opener = gzip.open if vcf_file_input.endswith(\".gz\") else open\n",
    "    # open the file and find the header line\n",
    "    with opener(vcf_file_input, \"rt\") as file:\n",
    "        for line in file:\n",
    "            if line.startswith(\"#CHROM\"):\n",
    "                header_line = line\n",
    "                break\n",
    "            elif not line.startswith(\"#\"):\n",
    "                break\n",
    "    # format the header line to a list format\n",
    "    if header_line:\n",
    "        header_columns = header_line.strip(\"#\").strip(\"\\n\").split(\"\\t\")\n",
    "        return header_columns\n",
    "    else:\n",
    "        return \"Unable to find the header\"\n",
    "\n",
    "fixed_columns = get_vcf_header(vcf_file3)  # change file name here >>\n",
    "print(f\"These are the columns found :\\n{fixed_columns}\\n\")"
   ],
   "outputs": [
    {
     "name": "stdout",
     "output_type": "stream",
     "text": [
      "These are the columns found :\n",
      "['CHROM', 'POS', 'ID', 'REF', 'ALT', 'QUAL', 'FILTER', 'INFO']\n",
      "\n"
     ]
    }
   ],
   "execution_count": 86
  }
 ],
 "metadata": {
  "kernelspec": {
   "display_name": "Python 3",
   "language": "python",
   "name": "python3"
  },
  "language_info": {
   "codemirror_mode": {
    "name": "ipython",
    "version": 3
   },
   "file_extension": ".py",
   "mimetype": "text/x-python",
   "name": "python",
   "nbconvert_exporter": "python",
   "pygments_lexer": "ipython3",
   "version": "3.12.10"
  }
 },
 "nbformat": 4,
 "nbformat_minor": 2
}
