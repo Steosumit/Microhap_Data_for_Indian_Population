{
 "cells": [
  {
   "cell_type": "code",
   "id": "initial_id",
   "metadata": {
    "collapsed": true,
    "ExecuteTime": {
     "end_time": "2025-05-21T18:17:11.186882Z",
     "start_time": "2025-05-21T18:17:10.798847Z"
    }
   },
   "source": "import pandas as pd",
   "outputs": [],
   "execution_count": 1
  },
  {
   "metadata": {
    "ExecuteTime": {
     "end_time": "2025-05-21T18:19:11.242459Z",
     "start_time": "2025-05-21T18:19:11.233727Z"
    }
   },
   "cell_type": "code",
   "source": [
    "file = r\"D:\\genome_asia_main_file\\genome_asia_data_working\\india_data.csv\"\n",
    "df = pd.read_csv(file, header=1)\n",
    "df.columns"
   ],
   "id": "a53cc94dc6747fd0",
   "outputs": [
    {
     "data": {
      "text/plain": [
       "Index(['GA sample ID', 'Gender', 'Ethnicity', 'Ethnicity short name', 'Region',\n",
       "       'Region short name', 'Country', 'Country of origin', 'Public',\n",
       "       'Related to', '% Neanderthal ancestry', '% Denisovan ancestry',\n",
       "       'Language group', 'Social Hierarchy ', 'mt- haplogroup',\n",
       "       'Y-haplogroup'],\n",
       "      dtype='object')"
      ]
     },
     "execution_count": 7,
     "metadata": {},
     "output_type": "execute_result"
    }
   ],
   "execution_count": 7
  },
  {
   "metadata": {
    "ExecuteTime": {
     "end_time": "2025-05-21T18:32:54.433186Z",
     "start_time": "2025-05-21T18:32:54.425442Z"
    }
   },
   "cell_type": "code",
   "source": [
    "filt = df['Country'] == 'India'\n",
    "l = df[filt]['GA sample ID'].tolist()\n",
    "# copy this list to the matrix_cal\n",
    "with open('indian_gaid.txt', 'w') as f:\n",
    "    f.write('\\n'.join(l))\n",
    "\n"
   ],
   "id": "3756eeb255ad190b",
   "outputs": [],
   "execution_count": 13
  }
 ],
 "metadata": {
  "kernelspec": {
   "display_name": "Python 3",
   "language": "python",
   "name": "python3"
  },
  "language_info": {
   "codemirror_mode": {
    "name": "ipython",
    "version": 2
   },
   "file_extension": ".py",
   "mimetype": "text/x-python",
   "name": "python",
   "nbconvert_exporter": "python",
   "pygments_lexer": "ipython2",
   "version": "2.7.6"
  }
 },
 "nbformat": 4,
 "nbformat_minor": 5
}
