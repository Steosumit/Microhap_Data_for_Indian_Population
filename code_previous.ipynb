{
 "cells": [
  {
   "cell_type": "code",
   "execution_count": 3,
   "metadata": {
    "ExecuteTime": {
     "end_time": "2025-04-14T18:16:38.719364Z",
     "start_time": "2025-04-14T18:16:12.813472Z"
    }
   },
   "outputs": [],
   "source": [
    "import pandas as pd\n"
   ]
  },
  {
   "cell_type": "code",
   "execution_count": 4,
   "metadata": {
    "ExecuteTime": {
     "end_time": "2025-04-18T06:24:36.187380Z",
     "start_time": "2025-04-18T06:24:36.184218Z"
    }
   },
   "outputs": [],
   "source": [
    "vcf_file = \"variants.vcf.gz\"\n",
    "vcf_file1 = \"GAsP_1163Samples.InDels.Feb2020.vcf.gz\""
   ]
  },
  {
   "cell_type": "markdown",
   "metadata": {},
   "source": [
    "##...\n",
    "##...\n",
    "#,,\n",
    "are all ignored and only the actual data is considered so we find the col names and put it to make a good csv pandas object"
   ]
  },
  {
   "cell_type": "code",
   "execution_count": 5,
   "metadata": {
    "ExecuteTime": {
     "end_time": "2025-04-12T21:32:41.761034Z",
     "start_time": "2025-04-12T21:32:41.215795Z"
    }
   },
   "outputs": [
    {
     "data": {
      "text/html": [
       "<div>\n",
       "<style scoped>\n",
       "    .dataframe tbody tr th:only-of-type {\n",
       "        vertical-align: middle;\n",
       "    }\n",
       "\n",
       "    .dataframe tbody tr th {\n",
       "        vertical-align: top;\n",
       "    }\n",
       "\n",
       "    .dataframe thead th {\n",
       "        text-align: right;\n",
       "    }\n",
       "</style>\n",
       "<table border=\"1\" class=\"dataframe\">\n",
       "  <thead>\n",
       "    <tr style=\"text-align: right;\">\n",
       "      <th></th>\n",
       "      <th>1</th>\n",
       "      <th>1157</th>\n",
       "      <th>.</th>\n",
       "      <th>T</th>\n",
       "      <th>C</th>\n",
       "      <th>166734</th>\n",
       "      <th>Low_VQSLOD;SubtelomericRepeat</th>\n",
       "      <th>AC=0;AF=0.075;AN=18;BaseQRankSum=-3.266;ClippingRankSum=-0.218;DP=210823;FS=4.461;GC=23.81;MLEAC=401;MLEAF=0.078;MQ=33.6;MQRankSum=-0.29;QD=4.52;ReadPosRankSum=0.922;RegionType=SubtelomericRepeat;SNPEFF_EFFECT=INTERGENIC;SNPEFF_FUNCTIONAL_CLASS=NONE;SNPEFF_IMPACT=MODIFIER;SOR=0.412;VQSLOD=-5.776;VariantType=SNP;culprit=QD;set=FilteredInAll</th>\n",
       "      <th>GT:AD:DP:GQ:PGT:PID:PL</th>\n",
       "      <th>0/0:62,0:62:99:.:.:0,104,1800</th>\n",
       "      <th>0/0:74,5:79:99:.:.:0,109,3135</th>\n",
       "      <th>0/0:104,0:104:99:.:.:0,120,1800</th>\n",
       "      <th>0/0:30,0:30:0:.:.:0,0,712</th>\n",
       "      <th>0/0:43,0:43:99:.:.:0,111,1665</th>\n",
       "      <th>0/0:95,0:95:99:.:.:0,120,1800</th>\n",
       "      <th>0/0:61,0:61:99:.:.:0,120,1800</th>\n",
       "      <th>./.:5,0:5:.:.:.:.</th>\n",
       "      <th>0/0:14,0:14:42:.:.:0,42,415</th>\n",
       "      <th>0/0:12,0:12:36:.:.:0,36,338</th>\n",
       "    </tr>\n",
       "  </thead>\n",
       "  <tbody>\n",
       "    <tr>\n",
       "      <th>0</th>\n",
       "      <td>1</td>\n",
       "      <td>1196</td>\n",
       "      <td>.</td>\n",
       "      <td>A</td>\n",
       "      <td>T</td>\n",
       "      <td>696707.0</td>\n",
       "      <td>Low_VQSLOD;SubtelomericRepeat</td>\n",
       "      <td>AC=3;AF=0.22;AN=20;BaseQRankSum=-0.592;Clippin...</td>\n",
       "      <td>GT:AD:DP:GQ:PGT:PID:PL</td>\n",
       "      <td>0/0:63,0:63:0:.:.:0,0,1444</td>\n",
       "      <td>0/1:32,36:68:99:.:.:815,0,984</td>\n",
       "      <td>0/0:83,0:83:0:.:.:0,0,1754</td>\n",
       "      <td>0/1:9,21:30:99:.:.:565,0,263</td>\n",
       "      <td>0/0:45,5:50:5:0|1:1196_A_T:0,5,1188</td>\n",
       "      <td>0/0:99,0:99:99:.:.:0,120,1800</td>\n",
       "      <td>0/1:58,21:79:99:.:.:384,0,1515</td>\n",
       "      <td>0/0:13,0:13:0:.:.:0,0,90</td>\n",
       "      <td>0/0:10,0:10:24:.:.:0,24,360</td>\n",
       "      <td>0/0:15,0:15:0:.:.:0,0,203</td>\n",
       "    </tr>\n",
       "  </tbody>\n",
       "</table>\n",
       "</div>"
      ],
      "text/plain": [
       "   1  1157  .  T  C    166734  Low_VQSLOD;SubtelomericRepeat  \\\n",
       "0  1  1196  .  A  T  696707.0  Low_VQSLOD;SubtelomericRepeat   \n",
       "\n",
       "  AC=0;AF=0.075;AN=18;BaseQRankSum=-3.266;ClippingRankSum=-0.218;DP=210823;FS=4.461;GC=23.81;MLEAC=401;MLEAF=0.078;MQ=33.6;MQRankSum=-0.29;QD=4.52;ReadPosRankSum=0.922;RegionType=SubtelomericRepeat;SNPEFF_EFFECT=INTERGENIC;SNPEFF_FUNCTIONAL_CLASS=NONE;SNPEFF_IMPACT=MODIFIER;SOR=0.412;VQSLOD=-5.776;VariantType=SNP;culprit=QD;set=FilteredInAll  \\\n",
       "0  AC=3;AF=0.22;AN=20;BaseQRankSum=-0.592;Clippin...                                                                                                                                                                                                                                                                                                      \n",
       "\n",
       "   GT:AD:DP:GQ:PGT:PID:PL 0/0:62,0:62:99:.:.:0,104,1800  \\\n",
       "0  GT:AD:DP:GQ:PGT:PID:PL    0/0:63,0:63:0:.:.:0,0,1444   \n",
       "\n",
       "   0/0:74,5:79:99:.:.:0,109,3135 0/0:104,0:104:99:.:.:0,120,1800  \\\n",
       "0  0/1:32,36:68:99:.:.:815,0,984      0/0:83,0:83:0:.:.:0,0,1754   \n",
       "\n",
       "      0/0:30,0:30:0:.:.:0,0,712        0/0:43,0:43:99:.:.:0,111,1665  \\\n",
       "0  0/1:9,21:30:99:.:.:565,0,263  0/0:45,5:50:5:0|1:1196_A_T:0,5,1188   \n",
       "\n",
       "   0/0:95,0:95:99:.:.:0,120,1800   0/0:61,0:61:99:.:.:0,120,1800  \\\n",
       "0  0/0:99,0:99:99:.:.:0,120,1800  0/1:58,21:79:99:.:.:384,0,1515   \n",
       "\n",
       "          ./.:5,0:5:.:.:.:.  0/0:14,0:14:42:.:.:0,42,415  \\\n",
       "0  0/0:13,0:13:0:.:.:0,0,90  0/0:10,0:10:24:.:.:0,24,360   \n",
       "\n",
       "  0/0:12,0:12:36:.:.:0,36,338  \n",
       "0   0/0:15,0:15:0:.:.:0,0,203  "
      ]
     },
     "execution_count": 5,
     "metadata": {},
     "output_type": "execute_result"
    }
   ],
   "source": [
    "df_variant = pd.read_csv(vcf_file, sep=\"\\t\", comment=\"#\")\n",
    "df_variant.head(1)"
   ]
  },
  {
   "cell_type": "code",
   "execution_count": 6,
   "metadata": {
    "ExecuteTime": {
     "end_time": "2025-04-12T21:32:44.943279Z",
     "start_time": "2025-04-12T21:32:44.934956Z"
    }
   },
   "outputs": [
    {
     "data": {
      "text/plain": [
       "(26893, 19)"
      ]
     },
     "execution_count": 6,
     "metadata": {},
     "output_type": "execute_result"
    }
   ],
   "source": [
    "df_variant.shape"
   ]
  },
  {
   "cell_type": "markdown",
   "metadata": {},
   "source": [
    "Formatting the text and finding the column list starting with #"
   ]
  },
  {
   "cell_type": "code",
   "execution_count": 7,
   "metadata": {},
   "outputs": [
    {
     "data": {
      "text/plain": [
       "['']"
      ]
     },
     "execution_count": 7,
     "metadata": {},
     "output_type": "execute_result"
    }
   ],
   "source": [
    "import os\n",
    "columns = os.popen(f\"zgrep '^#' {vcf_file} | tail -n 1\").read()\n",
    "columns = columns.strip('#').strip('\\n').split('\\t')\n",
    "columns"
   ]
  },
  {
   "cell_type": "code",
   "execution_count": 8,
   "metadata": {},
   "outputs": [
    {
     "data": {
      "text/html": [
       "<div>\n",
       "<style scoped>\n",
       "    .dataframe tbody tr th:only-of-type {\n",
       "        vertical-align: middle;\n",
       "    }\n",
       "\n",
       "    .dataframe tbody tr th {\n",
       "        vertical-align: top;\n",
       "    }\n",
       "\n",
       "    .dataframe thead th {\n",
       "        text-align: right;\n",
       "    }\n",
       "</style>\n",
       "<table border=\"1\" class=\"dataframe\">\n",
       "  <thead>\n",
       "    <tr style=\"text-align: right;\">\n",
       "      <th></th>\n",
       "      <th></th>\n",
       "      <th></th>\n",
       "      <th></th>\n",
       "      <th></th>\n",
       "      <th></th>\n",
       "      <th></th>\n",
       "      <th></th>\n",
       "      <th></th>\n",
       "      <th></th>\n",
       "      <th></th>\n",
       "      <th></th>\n",
       "      <th></th>\n",
       "      <th></th>\n",
       "      <th></th>\n",
       "      <th></th>\n",
       "      <th></th>\n",
       "      <th></th>\n",
       "      <th></th>\n",
       "    </tr>\n",
       "  </thead>\n",
       "  <tbody>\n",
       "    <tr>\n",
       "      <th rowspan=\"5\" valign=\"top\">1</th>\n",
       "      <th>1157</th>\n",
       "      <th>.</th>\n",
       "      <th>T</th>\n",
       "      <th>C</th>\n",
       "      <th>166734.0</th>\n",
       "      <th>Low_VQSLOD;SubtelomericRepeat</th>\n",
       "      <th>AC=0;AF=0.075;AN=18;BaseQRankSum=-3.266;ClippingRankSum=-0.218;DP=210823;FS=4.461;GC=23.81;MLEAC=401;MLEAF=0.078;MQ=33.6;MQRankSum=-0.29;QD=4.52;ReadPosRankSum=0.922;RegionType=SubtelomericRepeat;SNPEFF_EFFECT=INTERGENIC;SNPEFF_FUNCTIONAL_CLASS=NONE;SNPEFF_IMPACT=MODIFIER;SOR=0.412;VQSLOD=-5.776;VariantType=SNP;culprit=QD;set=FilteredInAll</th>\n",
       "      <th>GT:AD:DP:GQ:PGT:PID:PL</th>\n",
       "      <th>0/0:62,0:62:99:.:.:0,104,1800</th>\n",
       "      <th>0/0:74,5:79:99:.:.:0,109,3135</th>\n",
       "      <th>0/0:104,0:104:99:.:.:0,120,1800</th>\n",
       "      <th>0/0:30,0:30:0:.:.:0,0,712</th>\n",
       "      <th>0/0:43,0:43:99:.:.:0,111,1665</th>\n",
       "      <th>0/0:95,0:95:99:.:.:0,120,1800</th>\n",
       "      <th>0/0:61,0:61:99:.:.:0,120,1800</th>\n",
       "      <th>./.:5,0:5:.:.:.:.</th>\n",
       "      <th>0/0:14,0:14:42:.:.:0,42,415</th>\n",
       "      <td>0/0:12,0:12:36:.:.:0,36,338</td>\n",
       "    </tr>\n",
       "    <tr>\n",
       "      <th>1196</th>\n",
       "      <th>.</th>\n",
       "      <th>A</th>\n",
       "      <th>T</th>\n",
       "      <th>696707.0</th>\n",
       "      <th>Low_VQSLOD;SubtelomericRepeat</th>\n",
       "      <th>AC=3;AF=0.22;AN=20;BaseQRankSum=-0.592;ClippingRankSum=-0.023;DP=255086;FS=1.295;GC=33.33;MLEAC=1280;MLEAF=0.252;MQ=34.05;MQRankSum=-2.466;QD=6.68;ReadPosRankSum=-1.285;RegionType=SubtelomericRepeat;SNPEFF_EFFECT=INTERGENIC;SNPEFF_FUNCTIONAL_CLASS=NONE;SNPEFF_IMPACT=MODIFIER;SOR=0.878;VQSLOD=-5.081;VariantType=SNP;culprit=QD;set=FilteredInAll</th>\n",
       "      <th>GT:AD:DP:GQ:PGT:PID:PL</th>\n",
       "      <th>0/0:63,0:63:0:.:.:0,0,1444</th>\n",
       "      <th>0/1:32,36:68:99:.:.:815,0,984</th>\n",
       "      <th>0/0:83,0:83:0:.:.:0,0,1754</th>\n",
       "      <th>0/1:9,21:30:99:.:.:565,0,263</th>\n",
       "      <th>0/0:45,5:50:5:0|1:1196_A_T:0,5,1188</th>\n",
       "      <th>0/0:99,0:99:99:.:.:0,120,1800</th>\n",
       "      <th>0/1:58,21:79:99:.:.:384,0,1515</th>\n",
       "      <th>0/0:13,0:13:0:.:.:0,0,90</th>\n",
       "      <th>0/0:10,0:10:24:.:.:0,24,360</th>\n",
       "      <td>0/0:15,0:15:0:.:.:0,0,203</td>\n",
       "    </tr>\n",
       "    <tr>\n",
       "      <th>1414</th>\n",
       "      <th>.</th>\n",
       "      <th>C</th>\n",
       "      <th>T</th>\n",
       "      <th>324038.0</th>\n",
       "      <th>Low_VQSLOD;SubtelomericRepeat</th>\n",
       "      <th>AC=2;AF=0.071;AN=20;BaseQRankSum=4.2;ClippingRankSum=-0.152;DP=370953;FS=5.596;GC=42.86;MLEAC=369;MLEAF=0.071;MQ=32.23;MQRankSum=0.424;QD=5.8;ReadPosRankSum=-1.652;RegionType=SubtelomericRepeat;SNPEFF_EFFECT=INTERGENIC;SNPEFF_FUNCTIONAL_CLASS=NONE;SNPEFF_IMPACT=MODIFIER;SOR=1.202;VQSLOD=-4.983;VariantType=SNP;culprit=QD;set=FilteredInAll</th>\n",
       "      <th>GT:AD:DP:GQ:PGT:PID:PL</th>\n",
       "      <th>0/0:75,0:75:99:.:.:0,120,1800</th>\n",
       "      <th>0/0:81,0:81:99:.:.:0,120,1800</th>\n",
       "      <th>0/0:78,0:78:99:.:.:0,120,1800</th>\n",
       "      <th>0/1:51,18:69:99:.:.:527,0,1924</th>\n",
       "      <th>0/1:53,28:81:99:0|1:1380_T_C:1010,0,2205</th>\n",
       "      <th>0/0:141,0:141:99:.:.:0,120,1800</th>\n",
       "      <th>0/0:121,8:129:52:0|1:1400_C_G:0,52,5427</th>\n",
       "      <th>0/0:6,0:6:18:.:.:0,18,178</th>\n",
       "      <th>0/0:28,0:28:57:.:.:0,57,855</th>\n",
       "      <td>0/0:22,0:22:66:.:.:0,66,645</td>\n",
       "    </tr>\n",
       "    <tr>\n",
       "      <th>1435</th>\n",
       "      <th>.</th>\n",
       "      <th>T</th>\n",
       "      <th>C</th>\n",
       "      <th>495439.0</th>\n",
       "      <th>Low_VQSLOD;SubtelomericRepeat</th>\n",
       "      <th>AC=1;AF=0.1;AN=20;BaseQRankSum=-4.336;ClippingRankSum=-0.198;DP=308673;FS=4.163;GC=28.57;MLEAC=532;MLEAF=0.102;MQ=34.57;MQRankSum=0.535;QD=6.27;ReadPosRankSum=-1.507;RegionType=SubtelomericRepeat;SNPEFF_EFFECT=INTERGENIC;SNPEFF_FUNCTIONAL_CLASS=NONE;SNPEFF_IMPACT=MODIFIER;SOR=0.415;VQSLOD=-5.123;VariantType=SNP;culprit=QD;set=FilteredInAll</th>\n",
       "      <th>GT:AD:DP:GQ:PGT:PID:PL</th>\n",
       "      <th>0/0:54,0:54:99:.:.:0,120,1800</th>\n",
       "      <th>0/0:55,0:55:99:.:.:0,120,1800</th>\n",
       "      <th>0/0:55,0:55:99:.:.:0,120,1800</th>\n",
       "      <th>0/0:68,0:68:99:.:.:0,120,1800</th>\n",
       "      <th>0/0:75,0:75:99:.:.:0,120,1800</th>\n",
       "      <th>0/0:107,0:107:99:.:.:0,120,1800</th>\n",
       "      <th>0/0:145,0:145:99:.:.:0,120,1800</th>\n",
       "      <th>0/0:6,0:6:18:.:.:0,18,165</th>\n",
       "      <th>0/0:22,0:22:60:.:.:0,60,649</th>\n",
       "      <td>0/1:14,3:17:84:.:.:84,0,578</td>\n",
       "    </tr>\n",
       "    <tr>\n",
       "      <th>1450</th>\n",
       "      <th>.</th>\n",
       "      <th>A</th>\n",
       "      <th>T,C</th>\n",
       "      <th>2703220.0</th>\n",
       "      <th>Low_VQSLOD;SubtelomericRepeat</th>\n",
       "      <th>AC=7,1;AF=0.382,0.061;AN=20;BaseQRankSum=0.596;ClippingRankSum=-0.124;DP=275620;FS=3.49;GC=28.57;MLEAC=1991,313;MLEAF=0.389,0.061;MQ=33.72;MQRankSum=-0.572;QD=12.8;ReadPosRankSum=-0.065;RegionType=SubtelomericRepeat;SNPEFF_EFFECT=INTERGENIC;SNPEFF_FUNCTIONAL_CLASS=NONE;SNPEFF_IMPACT=MODIFIER;SOR=0.981;VQSLOD=-4.105;VariantType=MULTIALLELIC_SNP;culprit=MQ;set=FilteredInAll</th>\n",
       "      <th>GT:AD:DP:GQ:PGT:PID:PL</th>\n",
       "      <th>0/1:37,10,0:47:99:0|1:1216_T_C:159,0,1011,270,1042,1312</th>\n",
       "      <th>0/1:41,7,0:48:99:.:.:154,0,1639,281,1660,1941</th>\n",
       "      <th>0/0:55,0,0:55:0:.:.:0,0,652,0,652,652</th>\n",
       "      <th>0/1:14,49,0:63:99:0|1:1450_A_T:2021,0,391,2063,553,2616</th>\n",
       "      <th>0/1:18,41,0:59:99:.:.:1425,0,438,1479,564,2042</th>\n",
       "      <th>0/1:64,26,0:90:99:.:.:568,0,2596,769,2674,3443</th>\n",
       "      <th>0/1:88,34,0:122:99:.:.:597,0,3243,860,3344,4204</th>\n",
       "      <th>0/0:5,0,0:5:15:.:.:0,15,126,15,126,126</th>\n",
       "      <th>0/1:24,6,0:30:61:.:.:61,0,586,132,602,735</th>\n",
       "      <td>0/2:10,1,3:14:84:.:.:93,84,523,0,403,453</td>\n",
       "    </tr>\n",
       "  </tbody>\n",
       "</table>\n",
       "</div>"
      ],
      "text/plain": [
       "                                                                                                                                                                                                                                                                                                                                                                                                                                                                                                                                                                                                   \n",
       "1 1157 . T C   166734.0  Low_VQSLOD;SubtelomericRepeat AC=0;AF=0.075;AN=18;BaseQRankSum=-3.266;Clippin... GT:AD:DP:GQ:PGT:PID:PL 0/0:62,0:62:99:.:.:0,104,1800                      0/0:74,5:79:99:.:.:0,109,3135                 0/0:104,0:104:99:.:.:0,120,1800       0/0:30,0:30:0:.:.:0,0,712                          0/0:43,0:43:99:.:.:0,111,1665                  0/0:95,0:95:99:.:.:0,120,1800                  0/0:61,0:61:99:.:.:0,120,1800                   ./.:5,0:5:.:.:.:.                      0/0:14,0:14:42:.:.:0,42,415                             0/0:12,0:12:36:.:.:0,36,338\n",
       "  1196 . A T   696707.0  Low_VQSLOD;SubtelomericRepeat AC=3;AF=0.22;AN=20;BaseQRankSum=-0.592;Clipping... GT:AD:DP:GQ:PGT:PID:PL 0/0:63,0:63:0:.:.:0,0,1444                         0/1:32,36:68:99:.:.:815,0,984                 0/0:83,0:83:0:.:.:0,0,1754            0/1:9,21:30:99:.:.:565,0,263                       0/0:45,5:50:5:0|1:1196_A_T:0,5,1188            0/0:99,0:99:99:.:.:0,120,1800                  0/1:58,21:79:99:.:.:384,0,1515                  0/0:13,0:13:0:.:.:0,0,90               0/0:10,0:10:24:.:.:0,24,360                               0/0:15,0:15:0:.:.:0,0,203\n",
       "  1414 . C T   324038.0  Low_VQSLOD;SubtelomericRepeat AC=2;AF=0.071;AN=20;BaseQRankSum=4.2;ClippingRa... GT:AD:DP:GQ:PGT:PID:PL 0/0:75,0:75:99:.:.:0,120,1800                      0/0:81,0:81:99:.:.:0,120,1800                 0/0:78,0:78:99:.:.:0,120,1800         0/1:51,18:69:99:.:.:527,0,1924                     0/1:53,28:81:99:0|1:1380_T_C:1010,0,2205       0/0:141,0:141:99:.:.:0,120,1800                0/0:121,8:129:52:0|1:1400_C_G:0,52,5427         0/0:6,0:6:18:.:.:0,18,178              0/0:28,0:28:57:.:.:0,57,855                             0/0:22,0:22:66:.:.:0,66,645\n",
       "  1435 . T C   495439.0  Low_VQSLOD;SubtelomericRepeat AC=1;AF=0.1;AN=20;BaseQRankSum=-4.336;ClippingR... GT:AD:DP:GQ:PGT:PID:PL 0/0:54,0:54:99:.:.:0,120,1800                      0/0:55,0:55:99:.:.:0,120,1800                 0/0:55,0:55:99:.:.:0,120,1800         0/0:68,0:68:99:.:.:0,120,1800                      0/0:75,0:75:99:.:.:0,120,1800                  0/0:107,0:107:99:.:.:0,120,1800                0/0:145,0:145:99:.:.:0,120,1800                 0/0:6,0:6:18:.:.:0,18,165              0/0:22,0:22:60:.:.:0,60,649                             0/1:14,3:17:84:.:.:84,0,578\n",
       "  1450 . A T,C 2703220.0 Low_VQSLOD;SubtelomericRepeat AC=7,1;AF=0.382,0.061;AN=20;BaseQRankSum=0.596;... GT:AD:DP:GQ:PGT:PID:PL 0/1:37,10,0:47:99:0|1:1216_T_C:159,0,1011,270,1... 0/1:41,7,0:48:99:.:.:154,0,1639,281,1660,1941 0/0:55,0,0:55:0:.:.:0,0,652,0,652,652 0/1:14,49,0:63:99:0|1:1450_A_T:2021,0,391,2063,... 0/1:18,41,0:59:99:.:.:1425,0,438,1479,564,2042 0/1:64,26,0:90:99:.:.:568,0,2596,769,2674,3443 0/1:88,34,0:122:99:.:.:597,0,3243,860,3344,4204 0/0:5,0,0:5:15:.:.:0,15,126,15,126,126 0/1:24,6,0:30:61:.:.:61,0,586,132,602,735  0/2:10,1,3:14:84:.:.:93,84,523,0,403,453"
      ]
     },
     "execution_count": 8,
     "metadata": {},
     "output_type": "execute_result"
    }
   ],
   "source": [
    "df_variant_formatted = pd.read_csv(vcf_file, sep=\"\\t\", comment=\"#\", names=columns, header=None)\n",
    "df_variant_formatted.head()"
   ]
  },
  {
   "cell_type": "code",
   "execution_count": 9,
   "metadata": {},
   "outputs": [
    {
     "ename": "KeyError",
     "evalue": "'POS'",
     "output_type": "error",
     "traceback": [
      "\u001b[31m---------------------------------------------------------------------------\u001b[39m",
      "\u001b[31mKeyError\u001b[39m                                  Traceback (most recent call last)",
      "\u001b[36mFile \u001b[39m\u001b[32m~\\AppData\\Local\\Packages\\PythonSoftwareFoundation.Python.3.12_qbz5n2kfra8p0\\LocalCache\\local-packages\\Python312\\site-packages\\pandas\\core\\indexes\\base.py:3805\u001b[39m, in \u001b[36mIndex.get_loc\u001b[39m\u001b[34m(self, key)\u001b[39m\n\u001b[32m   3804\u001b[39m \u001b[38;5;28;01mtry\u001b[39;00m:\n\u001b[32m-> \u001b[39m\u001b[32m3805\u001b[39m     \u001b[38;5;28;01mreturn\u001b[39;00m \u001b[38;5;28;43mself\u001b[39;49m\u001b[43m.\u001b[49m\u001b[43m_engine\u001b[49m\u001b[43m.\u001b[49m\u001b[43mget_loc\u001b[49m\u001b[43m(\u001b[49m\u001b[43mcasted_key\u001b[49m\u001b[43m)\u001b[49m\n\u001b[32m   3806\u001b[39m \u001b[38;5;28;01mexcept\u001b[39;00m \u001b[38;5;167;01mKeyError\u001b[39;00m \u001b[38;5;28;01mas\u001b[39;00m err:\n",
      "\u001b[36mFile \u001b[39m\u001b[32mindex.pyx:167\u001b[39m, in \u001b[36mpandas._libs.index.IndexEngine.get_loc\u001b[39m\u001b[34m()\u001b[39m\n",
      "\u001b[36mFile \u001b[39m\u001b[32mindex.pyx:196\u001b[39m, in \u001b[36mpandas._libs.index.IndexEngine.get_loc\u001b[39m\u001b[34m()\u001b[39m\n",
      "\u001b[36mFile \u001b[39m\u001b[32mpandas\\\\_libs\\\\hashtable_class_helper.pxi:7081\u001b[39m, in \u001b[36mpandas._libs.hashtable.PyObjectHashTable.get_item\u001b[39m\u001b[34m()\u001b[39m\n",
      "\u001b[36mFile \u001b[39m\u001b[32mpandas\\\\_libs\\\\hashtable_class_helper.pxi:7089\u001b[39m, in \u001b[36mpandas._libs.hashtable.PyObjectHashTable.get_item\u001b[39m\u001b[34m()\u001b[39m\n",
      "\u001b[31mKeyError\u001b[39m: 'POS'",
      "\nThe above exception was the direct cause of the following exception:\n",
      "\u001b[31mKeyError\u001b[39m                                  Traceback (most recent call last)",
      "\u001b[36mCell\u001b[39m\u001b[36m \u001b[39m\u001b[32mIn[9]\u001b[39m\u001b[32m, line 1\u001b[39m\n\u001b[32m----> \u001b[39m\u001b[32m1\u001b[39m filt = \u001b[43mdf_variant_formatted\u001b[49m\u001b[43m[\u001b[49m\u001b[33;43m'\u001b[39;49m\u001b[33;43mPOS\u001b[39;49m\u001b[33;43m'\u001b[39;49m\u001b[43m]\u001b[49m == \u001b[32m1196\u001b[39m\n\u001b[32m      2\u001b[39m df_variant_formatted[filt]\n",
      "\u001b[36mFile \u001b[39m\u001b[32m~\\AppData\\Local\\Packages\\PythonSoftwareFoundation.Python.3.12_qbz5n2kfra8p0\\LocalCache\\local-packages\\Python312\\site-packages\\pandas\\core\\frame.py:4102\u001b[39m, in \u001b[36mDataFrame.__getitem__\u001b[39m\u001b[34m(self, key)\u001b[39m\n\u001b[32m   4100\u001b[39m \u001b[38;5;28;01mif\u001b[39;00m \u001b[38;5;28mself\u001b[39m.columns.nlevels > \u001b[32m1\u001b[39m:\n\u001b[32m   4101\u001b[39m     \u001b[38;5;28;01mreturn\u001b[39;00m \u001b[38;5;28mself\u001b[39m._getitem_multilevel(key)\n\u001b[32m-> \u001b[39m\u001b[32m4102\u001b[39m indexer = \u001b[38;5;28;43mself\u001b[39;49m\u001b[43m.\u001b[49m\u001b[43mcolumns\u001b[49m\u001b[43m.\u001b[49m\u001b[43mget_loc\u001b[49m\u001b[43m(\u001b[49m\u001b[43mkey\u001b[49m\u001b[43m)\u001b[49m\n\u001b[32m   4103\u001b[39m \u001b[38;5;28;01mif\u001b[39;00m is_integer(indexer):\n\u001b[32m   4104\u001b[39m     indexer = [indexer]\n",
      "\u001b[36mFile \u001b[39m\u001b[32m~\\AppData\\Local\\Packages\\PythonSoftwareFoundation.Python.3.12_qbz5n2kfra8p0\\LocalCache\\local-packages\\Python312\\site-packages\\pandas\\core\\indexes\\base.py:3812\u001b[39m, in \u001b[36mIndex.get_loc\u001b[39m\u001b[34m(self, key)\u001b[39m\n\u001b[32m   3807\u001b[39m     \u001b[38;5;28;01mif\u001b[39;00m \u001b[38;5;28misinstance\u001b[39m(casted_key, \u001b[38;5;28mslice\u001b[39m) \u001b[38;5;129;01mor\u001b[39;00m (\n\u001b[32m   3808\u001b[39m         \u001b[38;5;28misinstance\u001b[39m(casted_key, abc.Iterable)\n\u001b[32m   3809\u001b[39m         \u001b[38;5;129;01mand\u001b[39;00m \u001b[38;5;28many\u001b[39m(\u001b[38;5;28misinstance\u001b[39m(x, \u001b[38;5;28mslice\u001b[39m) \u001b[38;5;28;01mfor\u001b[39;00m x \u001b[38;5;129;01min\u001b[39;00m casted_key)\n\u001b[32m   3810\u001b[39m     ):\n\u001b[32m   3811\u001b[39m         \u001b[38;5;28;01mraise\u001b[39;00m InvalidIndexError(key)\n\u001b[32m-> \u001b[39m\u001b[32m3812\u001b[39m     \u001b[38;5;28;01mraise\u001b[39;00m \u001b[38;5;167;01mKeyError\u001b[39;00m(key) \u001b[38;5;28;01mfrom\u001b[39;00m\u001b[38;5;250m \u001b[39m\u001b[34;01merr\u001b[39;00m\n\u001b[32m   3813\u001b[39m \u001b[38;5;28;01mexcept\u001b[39;00m \u001b[38;5;167;01mTypeError\u001b[39;00m:\n\u001b[32m   3814\u001b[39m     \u001b[38;5;66;03m# If we have a listlike key, _check_indexing_error will raise\u001b[39;00m\n\u001b[32m   3815\u001b[39m     \u001b[38;5;66;03m#  InvalidIndexError. Otherwise we fall through and re-raise\u001b[39;00m\n\u001b[32m   3816\u001b[39m     \u001b[38;5;66;03m#  the TypeError.\u001b[39;00m\n\u001b[32m   3817\u001b[39m     \u001b[38;5;28mself\u001b[39m._check_indexing_error(key)\n",
      "\u001b[31mKeyError\u001b[39m: 'POS'"
     ]
    }
   ],
   "source": [
    "filt = df_variant_formatted['POS'] == 1196\n",
    "df_variant_formatted[filt]"
   ]
  },
  {
   "cell_type": "markdown",
   "metadata": {},
   "source": [
    "## Working on the large data"
   ]
  },
  {
   "cell_type": "code",
   "execution_count": 28,
   "metadata": {
    "ExecuteTime": {
     "end_time": "2025-04-18T06:21:58.251807Z",
     "start_time": "2025-04-18T06:21:58.245987Z"
    }
   },
   "outputs": [],
   "source": [
    "import pandas as pd\n",
    "\n",
    "# Columns that always remain same as said\n",
    "fixed_columns = ['CHROM',\n",
    " 'POS',\n",
    " 'ID',\n",
    " 'REF',\n",
    " 'ALT',\n",
    " 'QUAL',\n",
    " 'FILTER',\n",
    " 'INFO',\n",
    " 'FORMAT',\n",
    " 'PR0114-C',\n",
    " 'PR0115-C',\n",
    " 'PR0116-C',\n",
    " 'PR0117-C',\n",
    " 'PR0118-C',\n",
    " 'PR0119-C',\n",
    " 'PR0120-C',\n",
    " 'PR0121-C',\n",
    " 'PR0122-C',\n",
    " 'PR0123-C']"
   ]
  },
  {
   "cell_type": "markdown",
   "metadata": {},
   "source": [
    "### Chunks method 2\n",
    "TODO:\n",
    "- Col mismatch \n",
    "- Potential issues with the data preprocessing in conversion to pandas df from vcf file"
   ]
  },
  {
   "cell_type": "code",
   "execution_count": null,
   "metadata": {},
   "outputs": [
    {
     "data": {
      "text/plain": [
       "(3, 19)"
      ]
     },
     "metadata": {},
     "output_type": "display_data"
    },
    {
     "data": {
      "text/plain": [
       "(3, 19)"
      ]
     },
     "metadata": {},
     "output_type": "display_data"
    },
    {
     "data": {
      "text/plain": [
       "(3, 19)"
      ]
     },
     "metadata": {},
     "output_type": "display_data"
    }
   ],
   "source": [
    "chunk_size = 3\n",
    "\n",
    "def read_vcf_by_row(counter=2):\n",
    "    i = 0\n",
    "    for chunk in pd.read_csv(vcf_file, sep=\"\\t\", comment=\"#\", chunksize= chunk_size):\n",
    "        # display(pd.DataFrame( columns=fixed_columns))\n",
    "        display(chunk.shape)\n",
    "        \n",
    "        # # chunk is a df\n",
    "        # for index, row in chunk.iterrows():\n",
    "        #     print(row)\n",
    "        i += 1\n",
    "        if i == counter:\n",
    "            break\n",
    "\n",
    "read_vcf_by_row(3)"
   ]
  },
  {
   "cell_type": "markdown",
   "metadata": {},
   "source": [
    "### Chunks method 1"
   ]
  },
  {
   "cell_type": "code",
   "execution_count": null,
   "metadata": {
    "ExecuteTime": {
     "end_time": "2025-04-18T06:28:26.275828Z",
     "start_time": "2025-04-18T06:28:26.270196Z"
    }
   },
   "outputs": [],
   "source": [
    "\n",
    "\n",
    "# Functions\n",
    "class VCFManipulate:\n",
    "\n",
    "    def __init__(self, vcf_file_input):\n",
    "        self.vcf_file = vcf_file_input\n",
    "        self.columns = fixed_columns\n",
    "        self.chunk_size = 10\n",
    "    # Reading the file\n",
    "    def read_vcf(self, shownum=2, i=0):\n",
    "        with pd.read_csv(vcf_file, sep=\"\\t\", comment=\"#\", names=self.columns, chunksize= self.chunk_size) as reader:\n",
    "            for chunk in reader:\n",
    "                print(f\"Working on chunk: {i}, shape: {chunk.shape}\\n\")\n",
    "                # Do something with the chunk >>\n",
    "                # filt = chunk['CHROM'] <= 22\n",
    "                display(chunk['CHROM'])\n",
    "                \n",
    "                \n",
    "                i += 1  # update the counter\n",
    "                # Stop condition\n",
    "                if i > shownum : \n",
    "                    break\n",
    "    def display_vcf(self):\n",
    "        with pd.read_csv(vcf_file, sep=\"\\t\", comment=\"#\", names=self.columns, chunksize= self.chunk_size()) as reader:\n",
    "            for chunk in reader:\n",
    "                pass"
   ]
  },
  {
   "cell_type": "code",
   "execution_count": 133,
   "metadata": {
    "ExecuteTime": {
     "end_time": "2025-04-18T06:29:04.481091Z",
     "start_time": "2025-04-18T06:29:04.308414Z"
    }
   },
   "outputs": [
    {
     "name": "stdout",
     "output_type": "stream",
     "text": [
      "Working on chunk: 0, shape: (10, 19)\n",
      "\n"
     ]
    },
    {
     "data": {
      "text/plain": [
       "0    1\n",
       "1    1\n",
       "2    1\n",
       "3    1\n",
       "4    1\n",
       "5    1\n",
       "6    1\n",
       "7    1\n",
       "8    1\n",
       "9    1\n",
       "Name: CHROM, dtype: int64"
      ]
     },
     "metadata": {},
     "output_type": "display_data"
    },
    {
     "name": "stdout",
     "output_type": "stream",
     "text": [
      "Working on chunk: 1, shape: (10, 19)\n",
      "\n"
     ]
    },
    {
     "data": {
      "text/plain": [
       "10    1\n",
       "11    1\n",
       "12    1\n",
       "13    1\n",
       "14    1\n",
       "15    1\n",
       "16    1\n",
       "17    1\n",
       "18    1\n",
       "19    1\n",
       "Name: CHROM, dtype: int64"
      ]
     },
     "metadata": {},
     "output_type": "display_data"
    },
    {
     "name": "stdout",
     "output_type": "stream",
     "text": [
      "Working on chunk: 2, shape: (10, 19)\n",
      "\n"
     ]
    },
    {
     "data": {
      "text/plain": [
       "20    1\n",
       "21    1\n",
       "22    1\n",
       "23    1\n",
       "24    1\n",
       "25    1\n",
       "26    1\n",
       "27    1\n",
       "28    1\n",
       "29    1\n",
       "Name: CHROM, dtype: int64"
      ]
     },
     "metadata": {},
     "output_type": "display_data"
    },
    {
     "name": "stdout",
     "output_type": "stream",
     "text": [
      "Working on chunk: 3, shape: (10, 19)\n",
      "\n"
     ]
    },
    {
     "data": {
      "text/plain": [
       "30    1\n",
       "31    1\n",
       "32    1\n",
       "33    1\n",
       "34    1\n",
       "35    1\n",
       "36    1\n",
       "37    1\n",
       "38    1\n",
       "39    1\n",
       "Name: CHROM, dtype: int64"
      ]
     },
     "metadata": {},
     "output_type": "display_data"
    },
    {
     "name": "stdout",
     "output_type": "stream",
     "text": [
      "Working on chunk: 4, shape: (10, 19)\n",
      "\n"
     ]
    },
    {
     "data": {
      "text/plain": [
       "40    1\n",
       "41    1\n",
       "42    1\n",
       "43    1\n",
       "44    1\n",
       "45    1\n",
       "46    1\n",
       "47    1\n",
       "48    1\n",
       "49    1\n",
       "Name: CHROM, dtype: int64"
      ]
     },
     "metadata": {},
     "output_type": "display_data"
    },
    {
     "name": "stdout",
     "output_type": "stream",
     "text": [
      "Working on chunk: 5, shape: (10, 19)\n",
      "\n"
     ]
    },
    {
     "data": {
      "text/plain": [
       "50    1\n",
       "51    1\n",
       "52    1\n",
       "53    1\n",
       "54    1\n",
       "55    1\n",
       "56    1\n",
       "57    1\n",
       "58    1\n",
       "59    1\n",
       "Name: CHROM, dtype: int64"
      ]
     },
     "metadata": {},
     "output_type": "display_data"
    }
   ],
   "source": [
    "vcf = VCFManipulate(vcf_file)\n",
    "vcf.read_vcf(shownum=5)"
   ]
  }
 ],
 "metadata": {
  "kernelspec": {
   "display_name": "genomic_env",
   "language": "python",
   "name": "python3"
  },
  "language_info": {
   "codemirror_mode": {
    "name": "ipython",
    "version": 3
   },
   "file_extension": ".py",
   "mimetype": "text/x-python",
   "name": "python",
   "nbconvert_exporter": "python",
   "pygments_lexer": "ipython3",
   "version": "3.12.10"
  }
 },
 "nbformat": 4,
 "nbformat_minor": 2
}
