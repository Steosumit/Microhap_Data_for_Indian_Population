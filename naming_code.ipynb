{
 "cells": [
  {
   "cell_type": "code",
   "id": "initial_id",
   "metadata": {
    "collapsed": true,
    "ExecuteTime": {
     "end_time": "2025-08-02T05:42:09.815058Z",
     "start_time": "2025-08-02T05:42:09.332712Z"
    }
   },
   "source": [
    "import pandas as pd\n",
    "import numpy as np\n"
   ],
   "outputs": [],
   "execution_count": 2
  },
  {
   "metadata": {
    "ExecuteTime": {
     "end_time": "2025-08-02T05:42:11.885936Z",
     "start_time": "2025-08-02T05:42:11.883183Z"
    }
   },
   "cell_type": "code",
   "source": "file = \"T2T_SNP_B_MAF_0.05_RMP_Microhap.csv\"  # enter the file name",
   "id": "bd30f7436cb3f7c3",
   "outputs": [],
   "execution_count": 3
  },
  {
   "metadata": {},
   "cell_type": "markdown",
   "source": "### Naming Scheme MH1,MH2, for all SNPs",
   "id": "a0a2542dbbf49ecb"
  },
  {
   "metadata": {
    "ExecuteTime": {
     "end_time": "2025-08-02T05:45:17.507504Z",
     "start_time": "2025-08-02T05:45:17.459961Z"
    }
   },
   "cell_type": "code",
   "source": [
    "df = pd.read_csv(file)\n",
    "df.head(3)"
   ],
   "id": "722750c592c5cb0a",
   "outputs": [
    {
     "data": {
      "text/plain": [
       "  CHROM   POS            ID REF ALT QUAL FILTER  \\\n",
       "0  chrY  5690  rs1433259728   T   A    .   PASS   \n",
       "1  chrY  5805  rs1324317743   A   G    .   PASS   \n",
       "2  chrY  5807  rs1285314756   T   C    .   PASS   \n",
       "\n",
       "                                                INFO      MAF  MajorAF  \\\n",
       "0  COMMON;FREQ=dbGaP_PopFreq:0.5563,0.4437;GNO;RS...           0.55630   \n",
       "1  COMMON;FREQ=GnomAD:0.9066,0.09343|dbGaP_PopFre...  0.09004  0.90996   \n",
       "2  COMMON;FREQ=GnomAD:0.9107,0.08932|dbGaP_PopFre...   0.0897  0.91030   \n",
       "\n",
       "        RMP Unnamed: 11  \n",
       "0  0.378230              \n",
       "1  0.712547              \n",
       "2  0.713389         NaN  "
      ],
      "text/html": [
       "<div>\n",
       "<style scoped>\n",
       "    .dataframe tbody tr th:only-of-type {\n",
       "        vertical-align: middle;\n",
       "    }\n",
       "\n",
       "    .dataframe tbody tr th {\n",
       "        vertical-align: top;\n",
       "    }\n",
       "\n",
       "    .dataframe thead th {\n",
       "        text-align: right;\n",
       "    }\n",
       "</style>\n",
       "<table border=\"1\" class=\"dataframe\">\n",
       "  <thead>\n",
       "    <tr style=\"text-align: right;\">\n",
       "      <th></th>\n",
       "      <th>CHROM</th>\n",
       "      <th>POS</th>\n",
       "      <th>ID</th>\n",
       "      <th>REF</th>\n",
       "      <th>ALT</th>\n",
       "      <th>QUAL</th>\n",
       "      <th>FILTER</th>\n",
       "      <th>INFO</th>\n",
       "      <th>MAF</th>\n",
       "      <th>MajorAF</th>\n",
       "      <th>RMP</th>\n",
       "      <th>Unnamed: 11</th>\n",
       "    </tr>\n",
       "  </thead>\n",
       "  <tbody>\n",
       "    <tr>\n",
       "      <th>0</th>\n",
       "      <td>chrY</td>\n",
       "      <td>5690</td>\n",
       "      <td>rs1433259728</td>\n",
       "      <td>T</td>\n",
       "      <td>A</td>\n",
       "      <td>.</td>\n",
       "      <td>PASS</td>\n",
       "      <td>COMMON;FREQ=dbGaP_PopFreq:0.5563,0.4437;GNO;RS...</td>\n",
       "      <td></td>\n",
       "      <td>0.55630</td>\n",
       "      <td>0.378230</td>\n",
       "      <td></td>\n",
       "    </tr>\n",
       "    <tr>\n",
       "      <th>1</th>\n",
       "      <td>chrY</td>\n",
       "      <td>5805</td>\n",
       "      <td>rs1324317743</td>\n",
       "      <td>A</td>\n",
       "      <td>G</td>\n",
       "      <td>.</td>\n",
       "      <td>PASS</td>\n",
       "      <td>COMMON;FREQ=GnomAD:0.9066,0.09343|dbGaP_PopFre...</td>\n",
       "      <td>0.09004</td>\n",
       "      <td>0.90996</td>\n",
       "      <td>0.712547</td>\n",
       "      <td></td>\n",
       "    </tr>\n",
       "    <tr>\n",
       "      <th>2</th>\n",
       "      <td>chrY</td>\n",
       "      <td>5807</td>\n",
       "      <td>rs1285314756</td>\n",
       "      <td>T</td>\n",
       "      <td>C</td>\n",
       "      <td>.</td>\n",
       "      <td>PASS</td>\n",
       "      <td>COMMON;FREQ=GnomAD:0.9107,0.08932|dbGaP_PopFre...</td>\n",
       "      <td>0.0897</td>\n",
       "      <td>0.91030</td>\n",
       "      <td>0.713389</td>\n",
       "      <td>NaN</td>\n",
       "    </tr>\n",
       "  </tbody>\n",
       "</table>\n",
       "</div>"
      ]
     },
     "execution_count": 7,
     "metadata": {},
     "output_type": "execute_result"
    }
   ],
   "execution_count": 7
  },
  {
   "metadata": {
    "ExecuteTime": {
     "end_time": "2025-08-02T06:53:40.552509Z",
     "start_time": "2025-08-02T06:53:40.535575Z"
    }
   },
   "cell_type": "code",
   "source": [
    "MAX_DISTANCE = 200\n",
    "SNP_NUM = 3\n",
    "snp_cluster_list = []\n",
    "snp_pos_list = df['POS'].tolist()\n",
    "temp_cluster_list = [snp_pos_list[0]]\n",
    "temp_group_id_list = []\n",
    "group_id = 1\n",
    "\n",
    "# Assign group IDs for all SNPs, default to 'UNGROUPED'\n",
    "group_ids = ['UNGROUPED'] * len(snp_pos_list)\n",
    "\n",
    "for i in range(1, len(snp_pos_list)):\n",
    "    if (snp_pos_list[i] - snp_pos_list[i-1]) <= MAX_DISTANCE:\n",
    "        temp_cluster_list.append(snp_pos_list[i])\n",
    "    else:\n",
    "        if len(temp_cluster_list) >= SNP_NUM:\n",
    "            snp_cluster_list.extend(temp_cluster_list)\n",
    "            for idx in range(i - len(temp_cluster_list), i):\n",
    "                group_ids[idx] = f\"MH{group_id}\"\n",
    "            group_id += 1\n",
    "        temp_cluster_list = [snp_pos_list[i]]\n",
    "\n",
    "# If at the end of the loop the size of temp_cluster_list is more than 3\n",
    "if len(temp_cluster_list) >= SNP_NUM:\n",
    "    snp_cluster_list.extend(temp_cluster_list)\n",
    "    for idx in range(len(snp_pos_list) - len(temp_cluster_list), len(snp_pos_list)):\n",
    "        group_ids[idx] = f\"MH{group_id}\"\n",
    "    group_id += 1\n",
    "\n",
    "print(f\"snp_pos_list length: {len(snp_pos_list)}\")\n",
    "print(f\"group_ids length: {len(group_ids)}\")\n",
    "# print(f\"snp_pos_list: {snp_pos_list}\")\n",
    "# print(f\"group_ids: {group_ids}\")\n",
    "# Now you can combine as DataFrame:\n"
   ],
   "id": "c83553bac48d1afe",
   "outputs": [
    {
     "name": "stdout",
     "output_type": "stream",
     "text": [
      "snp_pos_list length: 11918\n",
      "group_ids length: 11918\n"
     ]
    }
   ],
   "execution_count": 24
  },
  {
   "metadata": {
    "ExecuteTime": {
     "end_time": "2025-08-02T06:58:08.461543Z",
     "start_time": "2025-08-02T06:58:08.454955Z"
    }
   },
   "cell_type": "code",
   "source": [
    "group_series = pd.Series({'GroupID': group_ids})\n",
    "df[\"GroupID\"] = group_ids\n",
    "df = df[['CHROM', 'GroupID', 'POS', 'ID', 'REF', 'ALT', 'QUAL', 'FILTER', 'INFO', 'MAF',\n",
    "       'MajorAF', 'RMP']]"
   ],
   "id": "3e7bd1e1aecc3dde",
   "outputs": [],
   "execution_count": 32
  },
  {
   "metadata": {
    "ExecuteTime": {
     "end_time": "2025-08-02T06:58:13.023335Z",
     "start_time": "2025-08-02T06:58:13.012955Z"
    }
   },
   "cell_type": "code",
   "source": "df.head()",
   "id": "4227e9d7be734850",
   "outputs": [
    {
     "data": {
      "text/plain": [
       "  CHROM GroupID   POS            ID REF ALT QUAL FILTER  \\\n",
       "0  chrY     MH1  5690  rs1433259728   T   A    .   PASS   \n",
       "1  chrY     MH1  5805  rs1324317743   A   G    .   PASS   \n",
       "2  chrY     MH1  5807  rs1285314756   T   C    .   PASS   \n",
       "3  chrY     MH1  5958  rs1181323098   C   T    .   PASS   \n",
       "4  chrY     MH1  5993  rs1322758635   T   G    .   PASS   \n",
       "\n",
       "                                                INFO      MAF  MajorAF  \\\n",
       "0  COMMON;FREQ=dbGaP_PopFreq:0.5563,0.4437;GNO;RS...           0.55630   \n",
       "1  COMMON;FREQ=GnomAD:0.9066,0.09343|dbGaP_PopFre...  0.09004  0.90996   \n",
       "2  COMMON;FREQ=GnomAD:0.9107,0.08932|dbGaP_PopFre...   0.0897  0.91030   \n",
       "3  COMMON;FREQ=GnomAD:0.2222,0.7778|dbGaP_PopFreq...   0.3775  0.62250   \n",
       "4  COMMON;FREQ=dbGaP_PopFreq:0.918,0.08203;GNO;RS...  0.08203  0.91797   \n",
       "\n",
       "        RMP  \n",
       "0  0.378230  \n",
       "1  0.712547  \n",
       "2  0.713389  \n",
       "3  0.391357  \n",
       "4  0.732817  "
      ],
      "text/html": [
       "<div>\n",
       "<style scoped>\n",
       "    .dataframe tbody tr th:only-of-type {\n",
       "        vertical-align: middle;\n",
       "    }\n",
       "\n",
       "    .dataframe tbody tr th {\n",
       "        vertical-align: top;\n",
       "    }\n",
       "\n",
       "    .dataframe thead th {\n",
       "        text-align: right;\n",
       "    }\n",
       "</style>\n",
       "<table border=\"1\" class=\"dataframe\">\n",
       "  <thead>\n",
       "    <tr style=\"text-align: right;\">\n",
       "      <th></th>\n",
       "      <th>CHROM</th>\n",
       "      <th>GroupID</th>\n",
       "      <th>POS</th>\n",
       "      <th>ID</th>\n",
       "      <th>REF</th>\n",
       "      <th>ALT</th>\n",
       "      <th>QUAL</th>\n",
       "      <th>FILTER</th>\n",
       "      <th>INFO</th>\n",
       "      <th>MAF</th>\n",
       "      <th>MajorAF</th>\n",
       "      <th>RMP</th>\n",
       "    </tr>\n",
       "  </thead>\n",
       "  <tbody>\n",
       "    <tr>\n",
       "      <th>0</th>\n",
       "      <td>chrY</td>\n",
       "      <td>MH1</td>\n",
       "      <td>5690</td>\n",
       "      <td>rs1433259728</td>\n",
       "      <td>T</td>\n",
       "      <td>A</td>\n",
       "      <td>.</td>\n",
       "      <td>PASS</td>\n",
       "      <td>COMMON;FREQ=dbGaP_PopFreq:0.5563,0.4437;GNO;RS...</td>\n",
       "      <td></td>\n",
       "      <td>0.55630</td>\n",
       "      <td>0.378230</td>\n",
       "    </tr>\n",
       "    <tr>\n",
       "      <th>1</th>\n",
       "      <td>chrY</td>\n",
       "      <td>MH1</td>\n",
       "      <td>5805</td>\n",
       "      <td>rs1324317743</td>\n",
       "      <td>A</td>\n",
       "      <td>G</td>\n",
       "      <td>.</td>\n",
       "      <td>PASS</td>\n",
       "      <td>COMMON;FREQ=GnomAD:0.9066,0.09343|dbGaP_PopFre...</td>\n",
       "      <td>0.09004</td>\n",
       "      <td>0.90996</td>\n",
       "      <td>0.712547</td>\n",
       "    </tr>\n",
       "    <tr>\n",
       "      <th>2</th>\n",
       "      <td>chrY</td>\n",
       "      <td>MH1</td>\n",
       "      <td>5807</td>\n",
       "      <td>rs1285314756</td>\n",
       "      <td>T</td>\n",
       "      <td>C</td>\n",
       "      <td>.</td>\n",
       "      <td>PASS</td>\n",
       "      <td>COMMON;FREQ=GnomAD:0.9107,0.08932|dbGaP_PopFre...</td>\n",
       "      <td>0.0897</td>\n",
       "      <td>0.91030</td>\n",
       "      <td>0.713389</td>\n",
       "    </tr>\n",
       "    <tr>\n",
       "      <th>3</th>\n",
       "      <td>chrY</td>\n",
       "      <td>MH1</td>\n",
       "      <td>5958</td>\n",
       "      <td>rs1181323098</td>\n",
       "      <td>C</td>\n",
       "      <td>T</td>\n",
       "      <td>.</td>\n",
       "      <td>PASS</td>\n",
       "      <td>COMMON;FREQ=GnomAD:0.2222,0.7778|dbGaP_PopFreq...</td>\n",
       "      <td>0.3775</td>\n",
       "      <td>0.62250</td>\n",
       "      <td>0.391357</td>\n",
       "    </tr>\n",
       "    <tr>\n",
       "      <th>4</th>\n",
       "      <td>chrY</td>\n",
       "      <td>MH1</td>\n",
       "      <td>5993</td>\n",
       "      <td>rs1322758635</td>\n",
       "      <td>T</td>\n",
       "      <td>G</td>\n",
       "      <td>.</td>\n",
       "      <td>PASS</td>\n",
       "      <td>COMMON;FREQ=dbGaP_PopFreq:0.918,0.08203;GNO;RS...</td>\n",
       "      <td>0.08203</td>\n",
       "      <td>0.91797</td>\n",
       "      <td>0.732817</td>\n",
       "    </tr>\n",
       "  </tbody>\n",
       "</table>\n",
       "</div>"
      ]
     },
     "execution_count": 33,
     "metadata": {},
     "output_type": "execute_result"
    }
   ],
   "execution_count": 33
  },
  {
   "metadata": {
    "ExecuteTime": {
     "end_time": "2025-08-02T07:02:46.741160Z",
     "start_time": "2025-08-02T07:02:46.717118Z"
    }
   },
   "cell_type": "code",
   "source": [
    "# save the file\n",
    "file_save = \"output.csv\"  # enter the save file name\n",
    "df.to_csv(file_save, index=False)"
   ],
   "id": "1b0f32e375b6f0a8",
   "outputs": [
    {
     "data": {
      "text/plain": [
       "GroupID    POS     \n",
       "MH1        5690        1\n",
       "           5805        1\n",
       "           5807        1\n",
       "           5958        1\n",
       "           5993        1\n",
       "                      ..\n",
       "UNGROUPED  62451230    1\n",
       "           62452623    1\n",
       "           62452754    1\n",
       "           62453642    1\n",
       "           62453861    1\n",
       "Name: count, Length: 11918, dtype: int64"
      ]
     },
     "execution_count": 37,
     "metadata": {},
     "output_type": "execute_result"
    }
   ],
   "execution_count": 37
  }
 ],
 "metadata": {
  "kernelspec": {
   "display_name": "Python 3",
   "language": "python",
   "name": "python3"
  },
  "language_info": {
   "codemirror_mode": {
    "name": "ipython",
    "version": 2
   },
   "file_extension": ".py",
   "mimetype": "text/x-python",
   "name": "python",
   "nbconvert_exporter": "python",
   "pygments_lexer": "ipython2",
   "version": "2.7.6"
  }
 },
 "nbformat": 4,
 "nbformat_minor": 5
}
