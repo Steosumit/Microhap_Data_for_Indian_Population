{
 "cells": [
  {
   "cell_type": "code",
   "id": "initial_id",
   "metadata": {
    "collapsed": true,
    "ExecuteTime": {
     "end_time": "2025-07-21T06:14:56.564019Z",
     "start_time": "2025-07-21T06:14:56.560670Z"
    }
   },
   "source": "import pandas as pd",
   "outputs": [],
   "execution_count": 1
  },
  {
   "metadata": {
    "ExecuteTime": {
     "end_time": "2025-07-19T19:07:28.393448Z",
     "start_time": "2025-07-19T19:07:28.377631Z"
    }
   },
   "cell_type": "code",
   "source": [
    "vcf_file = \"variants.vcf.gz\"\n",
    "vcf_file1 = \"GAsP_1163Samples.SNVs.Feb2020.vcf.gz\"\n",
    "vcf_file2 = r\"I:\\Genomic Project\\GAsP_1163Samples.InDels.Feb2020.vcf.gz\"\n",
    "vcf_file3 = r\"D:\\genome_asia_main_file\\genome_asia_data\\Multiallelic\\GAsP_Multiallelic_Y_SNP_bgzip.vcf.gz\""
   ],
   "id": "8cfb4a125be052a1",
   "outputs": [],
   "execution_count": 2
  },
  {
   "metadata": {
    "ExecuteTime": {
     "end_time": "2025-07-19T19:07:30.348425Z",
     "start_time": "2025-07-19T19:07:29.838955Z"
    }
   },
   "cell_type": "code",
   "source": [
    "def get_vcf_header(vcf_file_input):\n",
    "    import gzip\n",
    "    header_line = \"\"\n",
    "    # set the opener if it is gzip\n",
    "    opener = gzip.open if vcf_file_input.endswith(\".gz\") else open\n",
    "    # open the file and find the header line\n",
    "    with opener(vcf_file_input, \"rt\") as file:\n",
    "        for line in file:\n",
    "            if line.startswith(\"#CHROM\"):\n",
    "                header_line = line\n",
    "                break\n",
    "            elif not line.startswith(\"#\"):\n",
    "                break\n",
    "    # format the header line to a list format\n",
    "    if header_line:\n",
    "        header_columns = header_line.strip(\"#\").strip(\"\\n\").split(\"\\t\")\n",
    "        return header_columns\n",
    "    else:\n",
    "        return \"Unable to find the header\"\n",
    "\n",
    "fixed_columns = get_vcf_header(vcf_file3)  # change file name here >>\n",
    "print(f\"These are the columns found :\\n{fixed_columns}\\n\")\n"
   ],
   "id": "53b4b520e7b59869",
   "outputs": [
    {
     "ename": "FileNotFoundError",
     "evalue": "[Errno 2] No such file or directory: 'D:\\\\genome_asia_main_file\\\\genome_asia_data\\\\Multiallelic\\\\GAsP_Multiallelic_Y_SNP_bgzip.vcf.gz'",
     "output_type": "error",
     "traceback": [
      "\u001B[31m---------------------------------------------------------------------------\u001B[39m",
      "\u001B[31mFileNotFoundError\u001B[39m                         Traceback (most recent call last)",
      "\u001B[36mCell\u001B[39m\u001B[36m \u001B[39m\u001B[32mIn[3]\u001B[39m\u001B[32m, line 21\u001B[39m\n\u001B[32m     18\u001B[39m     \u001B[38;5;28;01melse\u001B[39;00m:\n\u001B[32m     19\u001B[39m         \u001B[38;5;28;01mreturn\u001B[39;00m \u001B[33m\"\u001B[39m\u001B[33mUnable to find the header\u001B[39m\u001B[33m\"\u001B[39m\n\u001B[32m---> \u001B[39m\u001B[32m21\u001B[39m fixed_columns = \u001B[43mget_vcf_header\u001B[49m\u001B[43m(\u001B[49m\u001B[43mvcf_file3\u001B[49m\u001B[43m)\u001B[49m  \u001B[38;5;66;03m# change file name here >>\u001B[39;00m\n\u001B[32m     22\u001B[39m \u001B[38;5;28mprint\u001B[39m(\u001B[33mf\u001B[39m\u001B[33m\"\u001B[39m\u001B[33mThese are the columns found :\u001B[39m\u001B[38;5;130;01m\\n\u001B[39;00m\u001B[38;5;132;01m{\u001B[39;00mfixed_columns\u001B[38;5;132;01m}\u001B[39;00m\u001B[38;5;130;01m\\n\u001B[39;00m\u001B[33m\"\u001B[39m)\n",
      "\u001B[36mCell\u001B[39m\u001B[36m \u001B[39m\u001B[32mIn[3]\u001B[39m\u001B[32m, line 7\u001B[39m, in \u001B[36mget_vcf_header\u001B[39m\u001B[34m(vcf_file_input)\u001B[39m\n\u001B[32m      5\u001B[39m opener = gzip.open \u001B[38;5;28;01mif\u001B[39;00m vcf_file_input.endswith(\u001B[33m\"\u001B[39m\u001B[33m.gz\u001B[39m\u001B[33m\"\u001B[39m) \u001B[38;5;28;01melse\u001B[39;00m \u001B[38;5;28mopen\u001B[39m\n\u001B[32m      6\u001B[39m \u001B[38;5;66;03m# open the file and find the header line\u001B[39;00m\n\u001B[32m----> \u001B[39m\u001B[32m7\u001B[39m \u001B[38;5;28;01mwith\u001B[39;00m \u001B[43mopener\u001B[49m\u001B[43m(\u001B[49m\u001B[43mvcf_file_input\u001B[49m\u001B[43m,\u001B[49m\u001B[43m \u001B[49m\u001B[33;43m\"\u001B[39;49m\u001B[33;43mrt\u001B[39;49m\u001B[33;43m\"\u001B[39;49m\u001B[43m)\u001B[49m \u001B[38;5;28;01mas\u001B[39;00m file:\n\u001B[32m      8\u001B[39m     \u001B[38;5;28;01mfor\u001B[39;00m line \u001B[38;5;129;01min\u001B[39;00m file:\n\u001B[32m      9\u001B[39m         \u001B[38;5;28;01mif\u001B[39;00m line.startswith(\u001B[33m\"\u001B[39m\u001B[33m#CHROM\u001B[39m\u001B[33m\"\u001B[39m):\n",
      "\u001B[36mFile \u001B[39m\u001B[32mC:\\Program Files\\WindowsApps\\PythonSoftwareFoundation.Python.3.12_3.12.2800.0_x64__qbz5n2kfra8p0\\Lib\\gzip.py:65\u001B[39m, in \u001B[36mopen\u001B[39m\u001B[34m(filename, mode, compresslevel, encoding, errors, newline)\u001B[39m\n\u001B[32m     63\u001B[39m gz_mode = mode.replace(\u001B[33m\"\u001B[39m\u001B[33mt\u001B[39m\u001B[33m\"\u001B[39m, \u001B[33m\"\u001B[39m\u001B[33m\"\u001B[39m)\n\u001B[32m     64\u001B[39m \u001B[38;5;28;01mif\u001B[39;00m \u001B[38;5;28misinstance\u001B[39m(filename, (\u001B[38;5;28mstr\u001B[39m, \u001B[38;5;28mbytes\u001B[39m, os.PathLike)):\n\u001B[32m---> \u001B[39m\u001B[32m65\u001B[39m     binary_file = \u001B[43mGzipFile\u001B[49m\u001B[43m(\u001B[49m\u001B[43mfilename\u001B[49m\u001B[43m,\u001B[49m\u001B[43m \u001B[49m\u001B[43mgz_mode\u001B[49m\u001B[43m,\u001B[49m\u001B[43m \u001B[49m\u001B[43mcompresslevel\u001B[49m\u001B[43m)\u001B[49m\n\u001B[32m     66\u001B[39m \u001B[38;5;28;01melif\u001B[39;00m \u001B[38;5;28mhasattr\u001B[39m(filename, \u001B[33m\"\u001B[39m\u001B[33mread\u001B[39m\u001B[33m\"\u001B[39m) \u001B[38;5;129;01mor\u001B[39;00m \u001B[38;5;28mhasattr\u001B[39m(filename, \u001B[33m\"\u001B[39m\u001B[33mwrite\u001B[39m\u001B[33m\"\u001B[39m):\n\u001B[32m     67\u001B[39m     binary_file = GzipFile(\u001B[38;5;28;01mNone\u001B[39;00m, gz_mode, compresslevel, filename)\n",
      "\u001B[36mFile \u001B[39m\u001B[32mC:\\Program Files\\WindowsApps\\PythonSoftwareFoundation.Python.3.12_3.12.2800.0_x64__qbz5n2kfra8p0\\Lib\\gzip.py:201\u001B[39m, in \u001B[36mGzipFile.__init__\u001B[39m\u001B[34m(self, filename, mode, compresslevel, fileobj, mtime)\u001B[39m\n\u001B[32m    199\u001B[39m \u001B[38;5;28;01mtry\u001B[39;00m:\n\u001B[32m    200\u001B[39m     \u001B[38;5;28;01mif\u001B[39;00m fileobj \u001B[38;5;129;01mis\u001B[39;00m \u001B[38;5;28;01mNone\u001B[39;00m:\n\u001B[32m--> \u001B[39m\u001B[32m201\u001B[39m         fileobj = \u001B[38;5;28mself\u001B[39m.myfileobj = \u001B[43mbuiltins\u001B[49m\u001B[43m.\u001B[49m\u001B[43mopen\u001B[49m\u001B[43m(\u001B[49m\u001B[43mfilename\u001B[49m\u001B[43m,\u001B[49m\u001B[43m \u001B[49m\u001B[43mmode\u001B[49m\u001B[43m \u001B[49m\u001B[38;5;129;43;01mor\u001B[39;49;00m\u001B[43m \u001B[49m\u001B[33;43m'\u001B[39;49m\u001B[33;43mrb\u001B[39;49m\u001B[33;43m'\u001B[39;49m\u001B[43m)\u001B[49m\n\u001B[32m    202\u001B[39m     \u001B[38;5;28;01mif\u001B[39;00m filename \u001B[38;5;129;01mis\u001B[39;00m \u001B[38;5;28;01mNone\u001B[39;00m:\n\u001B[32m    203\u001B[39m         filename = \u001B[38;5;28mgetattr\u001B[39m(fileobj, \u001B[33m'\u001B[39m\u001B[33mname\u001B[39m\u001B[33m'\u001B[39m, \u001B[33m'\u001B[39m\u001B[33m'\u001B[39m)\n",
      "\u001B[31mFileNotFoundError\u001B[39m: [Errno 2] No such file or directory: 'D:\\\\genome_asia_main_file\\\\genome_asia_data\\\\Multiallelic\\\\GAsP_Multiallelic_Y_SNP_bgzip.vcf.gz'"
     ]
    }
   ],
   "execution_count": 3
  },
  {
   "metadata": {},
   "cell_type": "code",
   "source": [
    "df = pd.read_csv(vcf_file3, sep='\\t', comment='#', names=fixed_columns)\n",
    "# if csv file uncomment below and comment above\n",
    "# df = pd.read_csv(vcf_file3, sep=\",\")\n",
    "df.head(10)\n"
   ],
   "id": "c4592d9b10469530",
   "outputs": [],
   "execution_count": null
  },
  {
   "metadata": {},
   "cell_type": "markdown",
   "source": "## T2T MAF Calculation Logic",
   "id": "ac5917d899e3469"
  },
  {
   "metadata": {},
   "cell_type": "code",
   "source": [
    "# Finding MAF and writing in standard format to INFO column\n",
    "import re\n",
    "\n",
    "# FREQ=dbGaP_PopFreq:1,0;GNO;RS=2068592700;SSR=0;VC=DEL\n",
    "expression=r\"dbGaP_PopFreq:([^;]+)\"\n",
    "\n",
    "def extract_maf(row):\n",
    "    if 'dbGaP_PopFreq:' in row:\n",
    "        for part in row.split(';'):\n",
    "            match=re.search(expression, part)\n",
    "            if match:\n",
    "                values = match.group(1).split(',')\n",
    "                try:\n",
    "                    # listing all the ALT freq\n",
    "                    alt_freqs = [float(v) for v in values if v not in ('.', '0', '1')]\n",
    "                    #print(alt_freqs)\n",
    "                    # Find the MAF min of ALT\n",
    "                    maf = min(alt_freqs)\n",
    "                    #print(maf)\n",
    "                    return f\"MAF={maf:.6g}\"\n",
    "\n",
    "                except ValueError:\n",
    "                    pass\n",
    "    return \"MAF=0\"\n",
    "\n",
    "T2T_SNP_MAF_0.05.csv\n",
    "def extract_maf2(row):\n",
    "    if 'dbGaP_PopFreq:' in row:\n",
    "        for part in row.split(';'):\n",
    "            match=re.search(expression, part)\n",
    "            if match:\n",
    "                values = match.group(1).split(',')\n",
    "                try:\n",
    "                    # listing all the ALT freq\n",
    "                    alt_freqs = [float(v) for v in values if v not in ('.', '0', '1')]\n",
    "                    #print(alt_freqs)\n",
    "                    # Find the MAF min of ALT\n",
    "                    maf = min(alt_freqs)\n",
    "                    #print(maf)\n",
    "                    return maf\n",
    "\n",
    "                except ValueError:\n",
    "                    pass\n",
    "\n",
    "    # if nothing found\n",
    "    return 0\n",
    "\n",
    "# Testing\n",
    "extract_maf(\"FREQ=dbGaP_PopFreq:1,0;GNO;RS=2068592700;SSR=0;VC=DEL\")\n",
    "extract_maf2(\"FREQ=dbGaP_PopFreq:1,0;GNO;RS=2068592700;SSR=0;VC=DEL\")\n"
   ],
   "id": "3b3305514608b9ec",
   "outputs": [],
   "execution_count": null
  },
  {
   "metadata": {},
   "cell_type": "code",
   "source": [
    "# Apply extract_maf to the INFO col\n",
    "df['INFO'] = df['INFO'] + ';' + df['INFO'].apply(extract_maf)\n",
    "# And add a new col\n",
    "df['MAF'] = df['INFO'].apply(extract_maf2)\n"
   ],
   "id": "24405ba999c99fa5",
   "outputs": [],
   "execution_count": null
  },
  {
   "metadata": {},
   "cell_type": "code",
   "source": "df",
   "id": "44e0b6178a5e1730",
   "outputs": [],
   "execution_count": null
  },
  {
   "metadata": {},
   "cell_type": "markdown",
   "source": "### Filtering",
   "id": "5ee8c5cbb6bb5d1c"
  },
  {
   "metadata": {},
   "cell_type": "code",
   "source": [
    "filt = df['MAF'] > 0.05\n",
    "df[filt].tail()"
   ],
   "id": "a57b85400f88e7a6",
   "outputs": [],
   "execution_count": null
  },
  {
   "metadata": {},
   "cell_type": "code",
   "source": [
    "# File saving to vcf file add the header ##INFO=<ID=MAF,Number=1,Type=Float,Description=\"Minor Allele Frequency\">\n",
    "\n",
    "# Save to a csv file\n",
    "df_save = df[filt]\n",
    "df_save.to_csv(r\"D:\\genome_asia_main_file\\genome_asia_data\\T2T\\T2T_SNP_B_MAF_0.05.csv\", index=False)"
   ],
   "id": "15238a6104251e10",
   "outputs": [],
   "execution_count": null
  }
 ],
 "metadata": {
  "kernelspec": {
   "display_name": "Python 3",
   "language": "python",
   "name": "python3"
  },
  "language_info": {
   "codemirror_mode": {
    "name": "ipython",
    "version": 2
   },
   "file_extension": ".py",
   "mimetype": "text/x-python",
   "name": "python",
   "nbconvert_exporter": "python",
   "pygments_lexer": "ipython2",
   "version": "2.7.6"
  }
 },
 "nbformat": 4,
 "nbformat_minor": 5
}
